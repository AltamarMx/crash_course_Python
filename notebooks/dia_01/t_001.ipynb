{
 "cells": [
  {
   "cell_type": "markdown",
   "id": "computational-qualification",
   "metadata": {},
   "source": [
    "# Objetivo general:\n",
    "\n",
    "Que la/el asistente aprenda lo básico y un poco más para iniciarse en el mundo de Python y Jupyter notebook para el análisis y visualización de datos.\n",
    "\n",
    "\n",
    "## Objetivos específicos:\n",
    "* Conocer y saber instalar Python y Jupyter notebook\n",
    "* Conocer y aplicar los tipos de variables y los iterables en Python\n",
    "* Conocer y aplicar las herramientas de control\n",
    "* Conocer y aplicar pandas para la visualización y el manejo básico de datos\n"
   ]
  },
  {
   "cell_type": "markdown",
   "id": "outer-operation",
   "metadata": {},
   "source": [
    "# Día 1: Introducción a Python.\n",
    "* Qué es Python y la libreta de Jupyter\n",
    "* Instala y ejecuta Jupyter Notebook en diferentes OS\n",
    "    * Instala en windows\n",
    "    * Instala en Linux\n",
    "    * Instala en MacOs\n",
    "* Qué es Anaconda y por qué no la recomendamos ? \n",
    "* Google Collaboratory\n",
    "* Paseo por la libreta de Jupyter\n",
    "* Sintaxis en Python\n",
    "* Tipos de celdas\n",
    "* print(“hola mundo”) con botones y shortcuts\n",
    "* Estructura de archivos recomendada\n",
    "* Ejecuta Jupyter donde quieres\n"
   ]
  },
  {
   "cell_type": "code",
   "execution_count": null,
   "id": "bronze-trading",
   "metadata": {},
   "outputs": [],
   "source": []
  }
 ],
 "metadata": {
  "kernelspec": {
   "display_name": "Python 3",
   "language": "python",
   "name": "python3"
  },
  "language_info": {
   "codemirror_mode": {
    "name": "ipython",
    "version": 3
   },
   "file_extension": ".py",
   "mimetype": "text/x-python",
   "name": "python",
   "nbconvert_exporter": "python",
   "pygments_lexer": "ipython3",
   "version": "3.9.7"
  }
 },
 "nbformat": 4,
 "nbformat_minor": 5
}
