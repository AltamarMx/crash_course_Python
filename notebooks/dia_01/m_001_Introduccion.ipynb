{
 "cells": [
  {
   "cell_type": "markdown",
   "metadata": {
    "tags": [
     "kevin"
    ]
   },
   "source": [
    "# Introducción a Python.\n",
    "1. Qué es Python y la libreta de Jupyter\n",
    "1. Instala y ejecuta Jupyter Notebook en diferentes OS\n",
    "1. Anaconda, explicar entre otras cosas por qué no es la primera opción.\n",
    "1. Google Collaboratory\n",
    "1. Paseo por la libreta de Jupyter\n",
    "1. Sintaxis en Python\n",
    "1. Tipos de celdas\n",
    "1. print(“hola mundo”) con botones y shortcuts\n",
    "1. Estructura de archivos recomendada\n",
    "1. Ejecuta Jupyter donde quieres\n",
    "1. Acceso a la documentación\n",
    "1. Errores comunes  \n",
    "1. Tarea: Instala Jupyter Notebook\n"
   ]
  }
 ],
 "metadata": {
  "celltoolbar": "Tags",
  "kernelspec": {
   "display_name": "Python 3",
   "language": "python",
   "name": "python3"
  },
  "language_info": {
   "codemirror_mode": {
    "name": "ipython",
    "version": 3
   },
   "file_extension": ".py",
   "mimetype": "text/x-python",
   "name": "python",
   "nbconvert_exporter": "python",
   "pygments_lexer": "ipython3",
   "version": "3.8.5"
  }
 },
 "nbformat": 4,
 "nbformat_minor": 5
}
