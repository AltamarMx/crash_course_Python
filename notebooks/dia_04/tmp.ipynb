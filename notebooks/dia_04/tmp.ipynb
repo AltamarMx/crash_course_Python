{
 "cells": [
  {
   "cell_type": "code",
   "execution_count": 1,
   "id": "chemical-liverpool",
   "metadata": {},
   "outputs": [],
   "source": [
    "import pandas as pd"
   ]
  },
  {
   "cell_type": "code",
   "execution_count": 3,
   "id": "genuine-devices",
   "metadata": {},
   "outputs": [
    {
     "data": {
      "text/plain": [
       "DatetimeIndex(['2018-01-01 00:00:00', '2018-01-01 00:10:00',\n",
       "               '2018-01-01 00:20:00', '2018-01-01 00:30:00',\n",
       "               '2018-01-01 00:40:00', '2018-01-01 00:50:00',\n",
       "               '2018-01-01 01:00:00', '2018-01-01 01:10:00',\n",
       "               '2018-01-01 01:20:00', '2018-01-01 01:30:00',\n",
       "               ...\n",
       "               '2018-12-31 22:20:00', '2018-12-31 22:30:00',\n",
       "               '2018-12-31 22:40:00', '2018-12-31 22:50:00',\n",
       "               '2018-12-31 23:00:00', '2018-12-31 23:10:00',\n",
       "               '2018-12-31 23:20:00', '2018-12-31 23:30:00',\n",
       "               '2018-12-31 23:40:00', '2018-12-31 23:50:00'],\n",
       "              dtype='datetime64[ns]', name='time', length=52560, freq=None)"
      ]
     },
     "execution_count": 3,
     "metadata": {},
     "output_type": "execute_result"
    }
   ],
   "source": [
    "df = pd.read_csv(\"../../data/temixco.csv\",index_col=0,parse_dates=True)\n",
    "df.index"
   ]
  },
  {
   "cell_type": "code",
   "execution_count": 4,
   "id": "adjustable-elite",
   "metadata": {},
   "outputs": [
    {
     "data": {
      "text/plain": [
       "Ib    1.241076e+07\n",
       "Ig    1.349443e+07\n",
       "To    1.200370e+06\n",
       "RH    2.373233e+06\n",
       "WS    1.001373e+05\n",
       "WD    1.107620e+07\n",
       "P     4.603791e+09\n",
       "dtype: float64"
      ]
     },
     "execution_count": 4,
     "metadata": {},
     "output_type": "execute_result"
    }
   ],
   "source": [
    "df.sum()"
   ]
  },
  {
   "cell_type": "code",
   "execution_count": 6,
   "id": "floppy-borough",
   "metadata": {},
   "outputs": [
    {
     "name": "stdout",
     "output_type": "stream",
     "text": [
      "<class 'pandas.core.frame.DataFrame'>\n",
      "DatetimeIndex: 52560 entries, 2018-01-01 00:00:00 to 2018-12-31 23:50:00\n",
      "Data columns (total 7 columns):\n",
      " #   Column  Non-Null Count  Dtype  \n",
      "---  ------  --------------  -----  \n",
      " 0   Ib      52423 non-null  float64\n",
      " 1   Ig      52423 non-null  float64\n",
      " 2   To      52560 non-null  float64\n",
      " 3   RH      52560 non-null  float64\n",
      " 4   WS      52560 non-null  float64\n",
      " 5   WD      52560 non-null  float64\n",
      " 6   P       52560 non-null  float64\n",
      "dtypes: float64(7)\n",
      "memory usage: 3.2 MB\n"
     ]
    }
   ],
   "source": [
    "df.info()"
   ]
  },
  {
   "cell_type": "code",
   "execution_count": 8,
   "id": "global-geometry",
   "metadata": {},
   "outputs": [
    {
     "data": {
      "text/html": [
       "<div>\n",
       "<style scoped>\n",
       "    .dataframe tbody tr th:only-of-type {\n",
       "        vertical-align: middle;\n",
       "    }\n",
       "\n",
       "    .dataframe tbody tr th {\n",
       "        vertical-align: top;\n",
       "    }\n",
       "\n",
       "    .dataframe thead th {\n",
       "        text-align: right;\n",
       "    }\n",
       "</style>\n",
       "<table border=\"1\" class=\"dataframe\">\n",
       "  <thead>\n",
       "    <tr style=\"text-align: right;\">\n",
       "      <th></th>\n",
       "      <th>Ib</th>\n",
       "      <th>Ig</th>\n",
       "      <th>To</th>\n",
       "      <th>RH</th>\n",
       "      <th>WS</th>\n",
       "      <th>WD</th>\n",
       "      <th>P</th>\n",
       "    </tr>\n",
       "  </thead>\n",
       "  <tbody>\n",
       "    <tr>\n",
       "      <th>count</th>\n",
       "      <td>52423.000000</td>\n",
       "      <td>52423.000000</td>\n",
       "      <td>52560.000000</td>\n",
       "      <td>52560.000000</td>\n",
       "      <td>52560.00000</td>\n",
       "      <td>52560.000000</td>\n",
       "      <td>52560.000000</td>\n",
       "    </tr>\n",
       "    <tr>\n",
       "      <th>mean</th>\n",
       "      <td>236.742726</td>\n",
       "      <td>257.414344</td>\n",
       "      <td>22.838098</td>\n",
       "      <td>45.152827</td>\n",
       "      <td>1.90520</td>\n",
       "      <td>210.734453</td>\n",
       "      <td>87591.151598</td>\n",
       "    </tr>\n",
       "    <tr>\n",
       "      <th>std</th>\n",
       "      <td>327.983721</td>\n",
       "      <td>345.976954</td>\n",
       "      <td>4.443339</td>\n",
       "      <td>19.426263</td>\n",
       "      <td>1.04411</td>\n",
       "      <td>109.276328</td>\n",
       "      <td>245.715965</td>\n",
       "    </tr>\n",
       "    <tr>\n",
       "      <th>min</th>\n",
       "      <td>0.000000</td>\n",
       "      <td>0.000000</td>\n",
       "      <td>8.160000</td>\n",
       "      <td>5.648000</td>\n",
       "      <td>0.05000</td>\n",
       "      <td>0.000000</td>\n",
       "      <td>86772.650000</td>\n",
       "    </tr>\n",
       "    <tr>\n",
       "      <th>25%</th>\n",
       "      <td>0.001000</td>\n",
       "      <td>0.000000</td>\n",
       "      <td>19.350000</td>\n",
       "      <td>29.770000</td>\n",
       "      <td>1.18000</td>\n",
       "      <td>134.675000</td>\n",
       "      <td>87429.500000</td>\n",
       "    </tr>\n",
       "    <tr>\n",
       "      <th>50%</th>\n",
       "      <td>0.260000</td>\n",
       "      <td>3.293000</td>\n",
       "      <td>22.670000</td>\n",
       "      <td>42.600000</td>\n",
       "      <td>1.78500</td>\n",
       "      <td>211.900000</td>\n",
       "      <td>87595.090000</td>\n",
       "    </tr>\n",
       "    <tr>\n",
       "      <th>75%</th>\n",
       "      <td>542.300000</td>\n",
       "      <td>533.900000</td>\n",
       "      <td>26.030000</td>\n",
       "      <td>59.280000</td>\n",
       "      <td>2.46000</td>\n",
       "      <td>319.800000</td>\n",
       "      <td>87760.647500</td>\n",
       "    </tr>\n",
       "    <tr>\n",
       "      <th>max</th>\n",
       "      <td>1021.000000</td>\n",
       "      <td>1348.000000</td>\n",
       "      <td>35.870000</td>\n",
       "      <td>97.700000</td>\n",
       "      <td>14.86000</td>\n",
       "      <td>360.000000</td>\n",
       "      <td>88516.950000</td>\n",
       "    </tr>\n",
       "  </tbody>\n",
       "</table>\n",
       "</div>"
      ],
      "text/plain": [
       "                 Ib            Ig            To            RH           WS  \\\n",
       "count  52423.000000  52423.000000  52560.000000  52560.000000  52560.00000   \n",
       "mean     236.742726    257.414344     22.838098     45.152827      1.90520   \n",
       "std      327.983721    345.976954      4.443339     19.426263      1.04411   \n",
       "min        0.000000      0.000000      8.160000      5.648000      0.05000   \n",
       "25%        0.001000      0.000000     19.350000     29.770000      1.18000   \n",
       "50%        0.260000      3.293000     22.670000     42.600000      1.78500   \n",
       "75%      542.300000    533.900000     26.030000     59.280000      2.46000   \n",
       "max     1021.000000   1348.000000     35.870000     97.700000     14.86000   \n",
       "\n",
       "                 WD             P  \n",
       "count  52560.000000  52560.000000  \n",
       "mean     210.734453  87591.151598  \n",
       "std      109.276328    245.715965  \n",
       "min        0.000000  86772.650000  \n",
       "25%      134.675000  87429.500000  \n",
       "50%      211.900000  87595.090000  \n",
       "75%      319.800000  87760.647500  \n",
       "max      360.000000  88516.950000  "
      ]
     },
     "execution_count": 8,
     "metadata": {},
     "output_type": "execute_result"
    }
   ],
   "source": [
    "df.describe()"
   ]
  },
  {
   "cell_type": "code",
   "execution_count": 19,
   "id": "union-sampling",
   "metadata": {
    "scrolled": true
   },
   "outputs": [
    {
     "data": {
      "text/plain": [
       "Ib    float64\n",
       "Ig    float64\n",
       "To    float64\n",
       "RH    float64\n",
       "WS    float64\n",
       "WD    float64\n",
       "P     float64\n",
       "dtype: object"
      ]
     },
     "execution_count": 19,
     "metadata": {},
     "output_type": "execute_result"
    }
   ],
   "source": [
    "df.dtypes"
   ]
  },
  {
   "cell_type": "code",
   "execution_count": null,
   "id": "turned-tulsa",
   "metadata": {},
   "outputs": [],
   "source": [
    "df.between_time"
   ]
  }
 ],
 "metadata": {
  "kernelspec": {
   "display_name": "Python 3",
   "language": "python",
   "name": "python3"
  },
  "language_info": {
   "codemirror_mode": {
    "name": "ipython",
    "version": 3
   },
   "file_extension": ".py",
   "mimetype": "text/x-python",
   "name": "python",
   "nbconvert_exporter": "python",
   "pygments_lexer": "ipython3",
   "version": "3.9.7"
  }
 },
 "nbformat": 4,
 "nbformat_minor": 5
}
