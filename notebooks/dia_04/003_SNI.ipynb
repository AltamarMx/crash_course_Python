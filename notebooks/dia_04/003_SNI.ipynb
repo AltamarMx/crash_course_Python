{
 "cells": [
  {
   "cell_type": "code",
   "execution_count": 1,
   "metadata": {},
   "outputs": [],
   "source": [
    "import pandas as pd"
   ]
  },
  {
   "cell_type": "code",
   "execution_count": 11,
   "metadata": {},
   "outputs": [
    {
     "data": {
      "text/plain": [
       "'1.3.5'"
      ]
     },
     "execution_count": 11,
     "metadata": {},
     "output_type": "execute_result"
    }
   ],
   "source": [
    "pd.__version__"
   ]
  },
  {
   "cell_type": "markdown",
   "metadata": {},
   "source": [
    "# Bajar y cargar datos del SNI"
   ]
  },
  {
   "cell_type": "code",
   "execution_count": 2,
   "metadata": {
    "scrolled": true
   },
   "outputs": [
    {
     "data": {
      "text/html": [
       "<div>\n",
       "<style scoped>\n",
       "    .dataframe tbody tr th:only-of-type {\n",
       "        vertical-align: middle;\n",
       "    }\n",
       "\n",
       "    .dataframe tbody tr th {\n",
       "        vertical-align: top;\n",
       "    }\n",
       "\n",
       "    .dataframe thead th {\n",
       "        text-align: right;\n",
       "    }\n",
       "</style>\n",
       "<table border=\"1\" class=\"dataframe\">\n",
       "  <thead>\n",
       "    <tr style=\"text-align: right;\">\n",
       "      <th></th>\n",
       "      <th>Nobilis</th>\n",
       "      <th>Nombre del Investigador</th>\n",
       "      <th>Categoría</th>\n",
       "      <th>Área del Conocimiento</th>\n",
       "      <th>Disciplina</th>\n",
       "      <th>Subdisciplina</th>\n",
       "      <th>Especialidad</th>\n",
       "      <th>Institución de Adscripción</th>\n",
       "      <th>Dependencia</th>\n",
       "      <th>Entidad Federativa</th>\n",
       "      <th>País</th>\n",
       "      <th>Estímulo Económico</th>\n",
       "    </tr>\n",
       "  </thead>\n",
       "  <tbody>\n",
       "    <tr>\n",
       "      <th>0</th>\n",
       "      <td>DR.</td>\n",
       "      <td>AALI BUJARI, ALI</td>\n",
       "      <td>1</td>\n",
       "      <td>V.- Ciencias Sociales</td>\n",
       "      <td>CIENCIAS ECONOMICAS</td>\n",
       "      <td>TEORIA ECONOMICA</td>\n",
       "      <td>CRECIMIENTO Y DESARROLLO ECONOMICO</td>\n",
       "      <td>UNIVERSIDAD AUTONOMA DEL ESTADO DE HIDALGO</td>\n",
       "      <td>INSTITUTO DE CIENCIAS ECONOMICO ADMINISTRATIVAS</td>\n",
       "      <td>HIDALGO</td>\n",
       "      <td>MÉXICO</td>\n",
       "      <td>La entrega del estímulo económico está sujeto ...</td>\n",
       "    </tr>\n",
       "    <tr>\n",
       "      <th>1</th>\n",
       "      <td>DRA.</td>\n",
       "      <td>AANSTANT, CHLOE LUCIENNE MARGUERITE</td>\n",
       "      <td>1</td>\n",
       "      <td>V.- Ciencias Sociales</td>\n",
       "      <td>SOCIOLOGIA</td>\n",
       "      <td>PROBLEMAS SOCIALES</td>\n",
       "      <td>GENERO, SEXUALIDAD, MIGRACION, CARCEL</td>\n",
       "      <td>FACULTAD LATINOAMERICANA DE CIENCIAS SOCIALES</td>\n",
       "      <td>NaN</td>\n",
       "      <td>CDMX</td>\n",
       "      <td>MÉXICO</td>\n",
       "      <td>NaN</td>\n",
       "    </tr>\n",
       "    <tr>\n",
       "      <th>2</th>\n",
       "      <td>DR.</td>\n",
       "      <td>AARLAND, RAYN CLARENC</td>\n",
       "      <td>C</td>\n",
       "      <td>VI.- Biotecnología y Ciencias Agropecuarias</td>\n",
       "      <td>CIENCIAS AGRONOMICAS Y VETERINARIAS</td>\n",
       "      <td>QUIMICA AGRONOMICA</td>\n",
       "      <td>BIOQUIMICA DE PLANTAS MEDICINALES</td>\n",
       "      <td>UNIVERSIDAD DE GUADALAJARA</td>\n",
       "      <td>CENTRO UNIVERSITARIO DE LA CIENEGA</td>\n",
       "      <td>JALISCO</td>\n",
       "      <td>MÉXICO</td>\n",
       "      <td>NaN</td>\n",
       "    </tr>\n",
       "    <tr>\n",
       "      <th>3</th>\n",
       "      <td>DR.</td>\n",
       "      <td>ABAD JAVIER, MARIO EDUARDO</td>\n",
       "      <td>C</td>\n",
       "      <td>VII.- Ingenierías</td>\n",
       "      <td>CIENCIAS TECNOLOGICAS</td>\n",
       "      <td>TECNOLOGIA DE MATERIALES</td>\n",
       "      <td>ANDAMIOS BIOMIMETICOS E INGENIERIA DE TEJIDO</td>\n",
       "      <td>UNIVERSIDAD MICHOACANA DE SAN NICOLAS DE HIDALGO</td>\n",
       "      <td>INSTITUTO DE INVESTIGACIONES METALURGICAS</td>\n",
       "      <td>MICHOACÁN</td>\n",
       "      <td>MÉXICO</td>\n",
       "      <td>NaN</td>\n",
       "    </tr>\n",
       "    <tr>\n",
       "      <th>4</th>\n",
       "      <td>DR.</td>\n",
       "      <td>ABAD ZAVALETA, JOSE</td>\n",
       "      <td>1</td>\n",
       "      <td>VI.- Biotecnología y Ciencias Agropecuarias</td>\n",
       "      <td>CIENCIAS AGRONOMICAS Y VETERINARIAS</td>\n",
       "      <td>CIENCIAS VETERINARIAS</td>\n",
       "      <td>REPRODUCCION Y GENETICA ANIMAL</td>\n",
       "      <td>UNIVERSIDAD DEL PAPALOAPAN</td>\n",
       "      <td>CAMPUS TUXTEPEC</td>\n",
       "      <td>OAXACA</td>\n",
       "      <td>MÉXICO</td>\n",
       "      <td>NaN</td>\n",
       "    </tr>\n",
       "    <tr>\n",
       "      <th>...</th>\n",
       "      <td>...</td>\n",
       "      <td>...</td>\n",
       "      <td>...</td>\n",
       "      <td>...</td>\n",
       "      <td>...</td>\n",
       "      <td>...</td>\n",
       "      <td>...</td>\n",
       "      <td>...</td>\n",
       "      <td>...</td>\n",
       "      <td>...</td>\n",
       "      <td>...</td>\n",
       "      <td>...</td>\n",
       "    </tr>\n",
       "    <tr>\n",
       "      <th>33160</th>\n",
       "      <td>DRA.</td>\n",
       "      <td>ZURITA MENDEZ, NANCY NELLY</td>\n",
       "      <td>C</td>\n",
       "      <td>II.- Biología y Química</td>\n",
       "      <td>QUIMICA</td>\n",
       "      <td>QUIMICA GENERAL</td>\n",
       "      <td>SINTESIS QUIMICA Y PROPIEDADES DE LOS MATERIALES</td>\n",
       "      <td>Sin Institución</td>\n",
       "      <td>Sin Institución</td>\n",
       "      <td>Sin Institución</td>\n",
       "      <td>MÉXICO</td>\n",
       "      <td>NaN</td>\n",
       "    </tr>\n",
       "    <tr>\n",
       "      <th>33161</th>\n",
       "      <td>DR.</td>\n",
       "      <td>ZURITA ORTEGA, MARIO ENRIQUE</td>\n",
       "      <td>3</td>\n",
       "      <td>II.- Biología y Química</td>\n",
       "      <td>CIENCIAS DE LA VIDA</td>\n",
       "      <td>BIOLOGIA MOLECULAR</td>\n",
       "      <td>GENETICA Y BIOLOGIA DEL DESARROLLO</td>\n",
       "      <td>UNIVERSIDAD NACIONAL AUTONOMA DE MEXICO</td>\n",
       "      <td>INSTITUTO DE BIOTECNOLOGIA</td>\n",
       "      <td>MORELOS</td>\n",
       "      <td>MÉXICO</td>\n",
       "      <td>NaN</td>\n",
       "    </tr>\n",
       "    <tr>\n",
       "      <th>33162</th>\n",
       "      <td>DRA.</td>\n",
       "      <td>ZURITA RIVERA, URSULA DEL CARMEN</td>\n",
       "      <td>1</td>\n",
       "      <td>V.- Ciencias Sociales</td>\n",
       "      <td>SOCIOLOGIA</td>\n",
       "      <td>SOCIOLOGIA DE ACTIVIDADES PARTICULARES</td>\n",
       "      <td>SOCIOLOGIA DE LA EDUCACION Y SOCIOLOGIA POLITICA</td>\n",
       "      <td>FACULTAD LATINOAMERICANA DE CIENCIAS SOCIALES</td>\n",
       "      <td>SEDE ACADEMICA DE MEXICO</td>\n",
       "      <td>CDMX</td>\n",
       "      <td>MÉXICO</td>\n",
       "      <td>NaN</td>\n",
       "    </tr>\n",
       "    <tr>\n",
       "      <th>33163</th>\n",
       "      <td>DR.</td>\n",
       "      <td>ZURITA SANCHEZ, JORGE ROBERTO</td>\n",
       "      <td>1</td>\n",
       "      <td>I.- Físico-Matemáticas y Ciencias de la Tierra</td>\n",
       "      <td>FISICA</td>\n",
       "      <td>FISICA TEORICA</td>\n",
       "      <td>CAMPOS ELECTROMAGNETICOS,  NANO-OPTICA</td>\n",
       "      <td>INSTITUTO NACIONAL DE ASTROFISICA OPTICA Y ELE...</td>\n",
       "      <td>COORDINACION DE ELECTRONICA</td>\n",
       "      <td>PUEBLA</td>\n",
       "      <td>MÉXICO</td>\n",
       "      <td>NaN</td>\n",
       "    </tr>\n",
       "    <tr>\n",
       "      <th>33164</th>\n",
       "      <td>DRA.</td>\n",
       "      <td>ZUVERZA MENA, NUBIA</td>\n",
       "      <td>1</td>\n",
       "      <td>II.- Biología y Química</td>\n",
       "      <td>CIENCIAS AMBIENTALES</td>\n",
       "      <td>QUIMICA DEL AMBIENTE</td>\n",
       "      <td>CHEMICALS IN AGRICULTURE APPLICATIONS IMPLICATION</td>\n",
       "      <td>Sin Institución</td>\n",
       "      <td>Sin Institución</td>\n",
       "      <td>Sin Institución</td>\n",
       "      <td>MÉXICO</td>\n",
       "      <td>NaN</td>\n",
       "    </tr>\n",
       "  </tbody>\n",
       "</table>\n",
       "<p>33165 rows × 12 columns</p>\n",
       "</div>"
      ],
      "text/plain": [
       "      Nobilis              Nombre del Investigador Categoría  \\\n",
       "0         DR.                     AALI BUJARI, ALI         1   \n",
       "1        DRA.  AANSTANT, CHLOE LUCIENNE MARGUERITE         1   \n",
       "2         DR.                AARLAND, RAYN CLARENC         C   \n",
       "3         DR.           ABAD JAVIER, MARIO EDUARDO         C   \n",
       "4         DR.                  ABAD ZAVALETA, JOSE         1   \n",
       "...       ...                                  ...       ...   \n",
       "33160    DRA.           ZURITA MENDEZ, NANCY NELLY         C   \n",
       "33161     DR.         ZURITA ORTEGA, MARIO ENRIQUE         3   \n",
       "33162    DRA.     ZURITA RIVERA, URSULA DEL CARMEN         1   \n",
       "33163     DR.        ZURITA SANCHEZ, JORGE ROBERTO         1   \n",
       "33164    DRA.                  ZUVERZA MENA, NUBIA         1   \n",
       "\n",
       "                                Área del Conocimiento  \\\n",
       "0                               V.- Ciencias Sociales   \n",
       "1                               V.- Ciencias Sociales   \n",
       "2         VI.- Biotecnología y Ciencias Agropecuarias   \n",
       "3                                   VII.- Ingenierías   \n",
       "4         VI.- Biotecnología y Ciencias Agropecuarias   \n",
       "...                                               ...   \n",
       "33160                         II.- Biología y Química   \n",
       "33161                         II.- Biología y Química   \n",
       "33162                           V.- Ciencias Sociales   \n",
       "33163  I.- Físico-Matemáticas y Ciencias de la Tierra   \n",
       "33164                         II.- Biología y Química   \n",
       "\n",
       "                                Disciplina  \\\n",
       "0                      CIENCIAS ECONOMICAS   \n",
       "1                               SOCIOLOGIA   \n",
       "2      CIENCIAS AGRONOMICAS Y VETERINARIAS   \n",
       "3                    CIENCIAS TECNOLOGICAS   \n",
       "4      CIENCIAS AGRONOMICAS Y VETERINARIAS   \n",
       "...                                    ...   \n",
       "33160                              QUIMICA   \n",
       "33161                  CIENCIAS DE LA VIDA   \n",
       "33162                           SOCIOLOGIA   \n",
       "33163                               FISICA   \n",
       "33164                 CIENCIAS AMBIENTALES   \n",
       "\n",
       "                                Subdisciplina  \\\n",
       "0                            TEORIA ECONOMICA   \n",
       "1                          PROBLEMAS SOCIALES   \n",
       "2                          QUIMICA AGRONOMICA   \n",
       "3                    TECNOLOGIA DE MATERIALES   \n",
       "4                       CIENCIAS VETERINARIAS   \n",
       "...                                       ...   \n",
       "33160                         QUIMICA GENERAL   \n",
       "33161                      BIOLOGIA MOLECULAR   \n",
       "33162  SOCIOLOGIA DE ACTIVIDADES PARTICULARES   \n",
       "33163                          FISICA TEORICA   \n",
       "33164                    QUIMICA DEL AMBIENTE   \n",
       "\n",
       "                                            Especialidad  \\\n",
       "0                     CRECIMIENTO Y DESARROLLO ECONOMICO   \n",
       "1                  GENERO, SEXUALIDAD, MIGRACION, CARCEL   \n",
       "2                      BIOQUIMICA DE PLANTAS MEDICINALES   \n",
       "3           ANDAMIOS BIOMIMETICOS E INGENIERIA DE TEJIDO   \n",
       "4                         REPRODUCCION Y GENETICA ANIMAL   \n",
       "...                                                  ...   \n",
       "33160   SINTESIS QUIMICA Y PROPIEDADES DE LOS MATERIALES   \n",
       "33161                 GENETICA Y BIOLOGIA DEL DESARROLLO   \n",
       "33162   SOCIOLOGIA DE LA EDUCACION Y SOCIOLOGIA POLITICA   \n",
       "33163             CAMPOS ELECTROMAGNETICOS,  NANO-OPTICA   \n",
       "33164  CHEMICALS IN AGRICULTURE APPLICATIONS IMPLICATION   \n",
       "\n",
       "                              Institución de Adscripción  \\\n",
       "0             UNIVERSIDAD AUTONOMA DEL ESTADO DE HIDALGO   \n",
       "1          FACULTAD LATINOAMERICANA DE CIENCIAS SOCIALES   \n",
       "2                             UNIVERSIDAD DE GUADALAJARA   \n",
       "3       UNIVERSIDAD MICHOACANA DE SAN NICOLAS DE HIDALGO   \n",
       "4                             UNIVERSIDAD DEL PAPALOAPAN   \n",
       "...                                                  ...   \n",
       "33160                                    Sin Institución   \n",
       "33161            UNIVERSIDAD NACIONAL AUTONOMA DE MEXICO   \n",
       "33162      FACULTAD LATINOAMERICANA DE CIENCIAS SOCIALES   \n",
       "33163  INSTITUTO NACIONAL DE ASTROFISICA OPTICA Y ELE...   \n",
       "33164                                    Sin Institución   \n",
       "\n",
       "                                           Dependencia Entidad Federativa  \\\n",
       "0      INSTITUTO DE CIENCIAS ECONOMICO ADMINISTRATIVAS            HIDALGO   \n",
       "1                                                  NaN               CDMX   \n",
       "2                   CENTRO UNIVERSITARIO DE LA CIENEGA            JALISCO   \n",
       "3            INSTITUTO DE INVESTIGACIONES METALURGICAS          MICHOACÁN   \n",
       "4                                      CAMPUS TUXTEPEC             OAXACA   \n",
       "...                                                ...                ...   \n",
       "33160                                  Sin Institución    Sin Institución   \n",
       "33161                       INSTITUTO DE BIOTECNOLOGIA            MORELOS   \n",
       "33162                         SEDE ACADEMICA DE MEXICO               CDMX   \n",
       "33163                      COORDINACION DE ELECTRONICA             PUEBLA   \n",
       "33164                                  Sin Institución    Sin Institución   \n",
       "\n",
       "         País                                 Estímulo Económico  \n",
       "0      MÉXICO  La entrega del estímulo económico está sujeto ...  \n",
       "1      MÉXICO                                                NaN  \n",
       "2      MÉXICO                                                NaN  \n",
       "3      MÉXICO                                                NaN  \n",
       "4      MÉXICO                                                NaN  \n",
       "...       ...                                                ...  \n",
       "33160  MÉXICO                                                NaN  \n",
       "33161  MÉXICO                                                NaN  \n",
       "33162  MÉXICO                                                NaN  \n",
       "33163  MÉXICO                                                NaN  \n",
       "33164  MÉXICO                                                NaN  \n",
       "\n",
       "[33165 rows x 12 columns]"
      ]
     },
     "execution_count": 2,
     "metadata": {},
     "output_type": "execute_result"
    }
   ],
   "source": [
    "sni = pd.read_excel('../../data/08_Padron_de_Beneficiarios_2020.xlsx')\n",
    "sni"
   ]
  },
  {
   "cell_type": "code",
   "execution_count": 3,
   "metadata": {},
   "outputs": [
    {
     "data": {
      "text/plain": [
       "Index(['Nobilis', 'Nombre del Investigador', 'Categoría',\n",
       "       'Área del Conocimiento', 'Disciplina', 'Subdisciplina', 'Especialidad',\n",
       "       'Institución de Adscripción', 'Dependencia', 'Entidad Federativa',\n",
       "       'País', 'Estímulo Económico'],\n",
       "      dtype='object')"
      ]
     },
     "execution_count": 3,
     "metadata": {},
     "output_type": "execute_result"
    }
   ],
   "source": [
    "sni.columns"
   ]
  },
  {
   "cell_type": "code",
   "execution_count": 4,
   "metadata": {
    "scrolled": true
   },
   "outputs": [
    {
     "name": "stdout",
     "output_type": "stream",
     "text": [
      "<class 'pandas.core.frame.DataFrame'>\n",
      "RangeIndex: 33165 entries, 0 to 33164\n",
      "Data columns (total 12 columns):\n",
      " #   Column                      Non-Null Count  Dtype \n",
      "---  ------                      --------------  ----- \n",
      " 0   Nobilis                     33165 non-null  object\n",
      " 1   Nombre del Investigador     33165 non-null  object\n",
      " 2   Categoría                   33165 non-null  object\n",
      " 3   Área del Conocimiento       33165 non-null  object\n",
      " 4   Disciplina                  33150 non-null  object\n",
      " 5   Subdisciplina               33002 non-null  object\n",
      " 6   Especialidad                30799 non-null  object\n",
      " 7   Institución de Adscripción  33165 non-null  object\n",
      " 8   Dependencia                 30257 non-null  object\n",
      " 9   Entidad Federativa          33165 non-null  object\n",
      " 10  País                        33165 non-null  object\n",
      " 11  Estímulo Económico          1 non-null      object\n",
      "dtypes: object(12)\n",
      "memory usage: 3.0+ MB\n"
     ]
    }
   ],
   "source": [
    "sni.info()"
   ]
  },
  {
   "cell_type": "code",
   "execution_count": 5,
   "metadata": {},
   "outputs": [
    {
     "data": {
      "text/plain": [
       "array(['CIENCIAS ECONOMICAS', 'SOCIOLOGIA',\n",
       "       'CIENCIAS AGRONOMICAS Y VETERINARIAS', 'CIENCIAS TECNOLOGICAS',\n",
       "       'CIENCIAS DE LA VIDA', 'CIENCIAS DE LA TECNOLOGIA',\n",
       "       'CIENCIAS DE LA SALUD', 'LINGUISTICA', 'HISTORIA',\n",
       "       'CIENCIAS DE LA TIERRA Y DEL COSMOS',\n",
       "       'CIENCIAS DE LA TIERRA Y DEL ESPACIO', 'DEMOGRAFIA',\n",
       "       'CIENCIAS AGRARIAS', 'PEDAGOGIA', 'MEDICINA Y PATOLOGIA HUMANA',\n",
       "       'FISICA', 'QUIMICA', 'PSICOLOGIA', 'MATEMATICAS',\n",
       "       'ESPECIALIDAD MEDICA', 'BIOTECNOLOGIA AGRICOLA',\n",
       "       'CIENCIAS MEDICAS', 'CIENCIAS JURIDICAS Y DERECHO',\n",
       "       'ASTRONOMIA Y ASTROFISICA', 'CIENCIAS POLITICAS', 'PESCA',\n",
       "       'INGENIERIA', 'ARTES Y LETRAS',\n",
       "       'CIENCIAS DE LAS ARTES Y LAS LETRAS', 'PROSPECTIVA',\n",
       "       'ANTROPOLOGIA', 'FILOSOFIA', 'BIOTECNOLOGIA',\n",
       "       'CIENCIAS BIOMEDICAS', 'GEOGRAFIA', 'CIENCIA POLITICA',\n",
       "       'INGENIERIA BIOMEDICA', 'MEDIOS DE COMUNICACION Y COMUNICACIO',\n",
       "       'CIENCIAS DE LA EDUCACION', 'SALUD Y PRODUCCION ANIMAL',\n",
       "       'ADMINISTRACION Y NEGOCIOS', 'ESTUDIOS DE GENERO', 'BIOLOGIA',\n",
       "       'LENGUA Y LITERATURA', 'CIENCIAS AMBIENTALES', 'ARTE Y CULTURA',\n",
       "       'ASTROFISICA', 'MEDICINA', 'ASTRONOMIA', 'ETICA',\n",
       "       'INVESTIGACION MEDICA', 'MEDIOS DE COMUNICACION Y COMUNICACIONE',\n",
       "       'LITERATURA', 'GESTION', 'ARQUITECTURA Y URBANISMO', 'LOGICA',\n",
       "       'COMUNICACION CIENTIFICA', 'FORMACION DOCENTE', nan, 'ODONTOLOGIA',\n",
       "       'CIENCIAS DEL MAR', 'ENFERMERIA', 'CIENCIAS DE LA OCUPACION'],\n",
       "      dtype=object)"
      ]
     },
     "execution_count": 5,
     "metadata": {},
     "output_type": "execute_result"
    }
   ],
   "source": [
    "sni['Disciplina'].unique()"
   ]
  },
  {
   "cell_type": "code",
   "execution_count": 6,
   "metadata": {},
   "outputs": [
    {
     "data": {
      "text/plain": [
       "array([1, 'C', 2, 3], dtype=object)"
      ]
     },
     "execution_count": 6,
     "metadata": {},
     "output_type": "execute_result"
    }
   ],
   "source": [
    "sni['Categoría'].unique()"
   ]
  },
  {
   "cell_type": "code",
   "execution_count": 7,
   "metadata": {},
   "outputs": [
    {
     "data": {
      "text/plain": [
       "array(['DR.', 'DRA.', 'M. EN C.', 'MED.', 'MTRA.', 'Q.F.B.', 'LIC.',\n",
       "       'QUIM.', 'MTRO.', 'M. EN I.', 'ING.', 'BIOL.', 'M. EN A.', 'PSIC.',\n",
       "       'QUIM,.', 'FIS.', 'M. EN B.', 'BIOQ.', 'QFB.'], dtype=object)"
      ]
     },
     "execution_count": 7,
     "metadata": {},
     "output_type": "execute_result"
    }
   ],
   "source": [
    "sni['Nobilis'].unique()"
   ]
  },
  {
   "cell_type": "code",
   "execution_count": 8,
   "metadata": {},
   "outputs": [
    {
     "data": {
      "text/plain": [
       "Nobilis                       12221\n",
       "Nombre del Investigador       12221\n",
       "Categoría                     12221\n",
       "Área del Conocimiento         12221\n",
       "Disciplina                    12219\n",
       "Subdisciplina                 12178\n",
       "Especialidad                  11241\n",
       "Institución de Adscripción    12221\n",
       "Dependencia                   11137\n",
       "Entidad Federativa            12221\n",
       "País                          12221\n",
       "Estímulo Económico                0\n",
       "dtype: int64"
      ]
     },
     "execution_count": 8,
     "metadata": {},
     "output_type": "execute_result"
    }
   ],
   "source": [
    "sni[ (sni['Nobilis']=='DRA.')].count()"
   ]
  },
  {
   "cell_type": "code",
   "execution_count": 17,
   "metadata": {
    "scrolled": true
   },
   "outputs": [
    {
     "data": {
      "text/plain": [
       "<AxesSubplot:xlabel='Categoría'>"
      ]
     },
     "execution_count": 17,
     "metadata": {},
     "output_type": "execute_result"
    },
    {
     "data": {
      "image/png": "[encoded data removed]",
      "text/plain": [
       "<Figure size 432x288 with 1 Axes>"
      ]
     },
     "metadata": {
      "needs_background": "light"
     },
     "output_type": "display_data"
    }
   ],
   "source": [
    "# conteo por categor'ia solo para Nobilis\n",
    "sni[['Nobilis','Categoría']].groupby(by='Categoría').count().plot(kind='bar')"
   ]
  },
  {
   "cell_type": "code",
   "execution_count": 22,
   "metadata": {},
   "outputs": [
    {
     "data": {
      "text/plain": [
       "<AxesSubplot:xlabel='Categoría'>"
      ]
     },
     "execution_count": 22,
     "metadata": {},
     "output_type": "execute_result"
    },
    {
     "data": {
      "image/png": "[encoded data removed]",
      "text/plain": [
       "<Figure size 432x288 with 1 Axes>"
      ]
     },
     "metadata": {
      "needs_background": "light"
     },
     "output_type": "display_data"
    }
   ],
   "source": [
    "# conteo por categoria solo para Nobilis y DRAs\n",
    "# conviene sacar un df para DRAS\n",
    "sni.loc[sni.Nobilis=='DRA.',['Nobilis','Categoría']].groupby(by='Categoría').count().plot(kind='bar')\n"
   ]
  },
  {
   "cell_type": "code",
   "execution_count": 23,
   "metadata": {},
   "outputs": [
    {
     "data": {
      "text/plain": [
       "<AxesSubplot:xlabel='Categoría'>"
      ]
     },
     "execution_count": 23,
     "metadata": {},
     "output_type": "execute_result"
    },
    {
     "data": {
      "image/png": "[encoded data removed]",
      "text/plain": [
       "<Figure size 432x288 with 1 Axes>"
      ]
     },
     "metadata": {
      "needs_background": "light"
     },
     "output_type": "display_data"
    }
   ],
   "source": [
    "dras = sni[sni.Nobilis=='DRA.']\n",
    "dras[['Nobilis','Categoría']].groupby(by='Categoría').count().plot(kind='bar')"
   ]
  }
 ],
 "metadata": {
  "kernelspec": {
   "display_name": "Python 3",
   "language": "python",
   "name": "python3"
  },
  "language_info": {
   "codemirror_mode": {
    "name": "ipython",
    "version": 3
   },
   "file_extension": ".py",
   "mimetype": "text/x-python",
   "name": "python",
   "nbconvert_exporter": "python",
   "pygments_lexer": "ipython3",
   "version": "3.8.5"
  }
 },
 "nbformat": 4,
 "nbformat_minor": 5
}
