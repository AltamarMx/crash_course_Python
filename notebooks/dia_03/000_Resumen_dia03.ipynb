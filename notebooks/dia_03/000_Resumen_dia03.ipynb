{
 "cells": [
  {
   "cell_type": "markdown",
   "metadata": {},
   "source": [
    "# Resumen del d'ia 02\n",
    "1. Importar paquetes en la primer celda\n",
    "1. Usar markdown para darle estructura\n",
    "1. Comentar el c'odigo\n",
    "1. Las variables se definen al declararse y pueden ser:\n",
    "    1. int\n",
    "    1. float/double\n",
    "    1. str\n",
    "1. Tambi'en existen:\n",
    "    1. listas\n",
    "    1. tuplas: inmutables\n",
    "    1. diccionarios\n",
    "1. Operaciones b'asicas +,-,/,*,**\n",
    "1. $\\ln\\,,\\log$, pow, constantes en paquete math\n",
    "1. Uso de shortcuts hace m'as efectivo el flujo de trabajo\n",
    "1. import this, zen of Python\n",
    "1. Imprimir con formato usando print(f'Texto {variable}')\n",
    "1. Paquetes agregan capacidades a Python\n",
    "    1. [Python package index](pypi.org)\n",
    "    1. [Github](www.github.com)\n",
    "1. Flujo de trabajo robusto y reproducible\n",
    "    1. Estructura de folders\n",
    "    1. Agrupamiento de c'odigo en celdas\n",
    "    1. Asegurarse de orden correcto de celdas\n",
    "    1. [Discusi'on sobre Jupyter Notebooks por Joel Grus](https://www.youtube.com/watch?v=7jiPeIFXb6U)\n"
   ]
  },
  {
   "cell_type": "code",
   "execution_count": null,
   "metadata": {},
   "outputs": [],
   "source": []
  }
 ],
 "metadata": {
  "kernelspec": {
   "display_name": "Python 3",
   "language": "python",
   "name": "python3"
  },
  "language_info": {
   "codemirror_mode": {
    "name": "ipython",
    "version": 3
   },
   "file_extension": ".py",
   "mimetype": "text/x-python",
   "name": "python",
   "nbconvert_exporter": "python",
   "pygments_lexer": "ipython3",
   "version": "3.8.5"
  }
 },
 "nbformat": 4,
 "nbformat_minor": 5
}
