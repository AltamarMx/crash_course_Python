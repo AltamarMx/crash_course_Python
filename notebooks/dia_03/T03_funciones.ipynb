{
 "cells": [
  {
   "cell_type": "markdown",
   "metadata": {},
   "source": [
    "# Tarea 3"
   ]
  },
  {
   "cell_type": "markdown",
   "metadata": {
    "scrolled": true
   },
   "source": [
    "### Ejemplo\n",
    "Escribe una función que devuelva el área de un rectángulo. Por ejemplo, para un rectángulo de base 15 y altura 2, la salida debe ser 30."
   ]
  },
  {
   "cell_type": "code",
   "execution_count": 4,
   "metadata": {},
   "outputs": [
    {
     "data": {
      "text/plain": [
       "30"
      ]
     },
     "execution_count": 4,
     "metadata": {},
     "output_type": "execute_result"
    }
   ],
   "source": [
    "def area(base,altura):\n",
    "    return base*altura\n",
    "\n",
    "b = 15\n",
    "h = 2\n",
    "\n",
    "area(15,2)"
   ]
  },
  {
   "cell_type": "markdown",
   "metadata": {},
   "source": [
    "### Ejercicio 1 (5 puntos)\n",
    "Escribe una función que se llame `pitagoras` para determinar si un triángulo es rectángulo a partir de las longitudes de sus lados, sin importar el orden en que los lados sean escritos en la función, y en caso de que lo sea deberá imprimir el valor de la hipotenusa.\n",
    "___\n",
    "\n",
    "**Input**: \n",
    "\n",
    "lado1 = 1\n",
    "\n",
    "lado2 = 2\n",
    "\n",
    "lado3 = 3\n",
    "\n",
    "`pitagoras(lado1,lado2,lado3)`\n",
    "\n",
    "**Output**: No es un triangulo rectángulo\n",
    "\n",
    "___\n",
    "**Input**: \n",
    "\n",
    "\n",
    "lado1 = 5\n",
    "\n",
    "lado2 = 4\n",
    "\n",
    "lado3 = 3\n",
    "\n",
    "`pitagoras(lado1,lado2,lado3)`\n",
    "\n",
    "**Output**: El valor de la hipotenusa es 5"
   ]
  },
  {
   "cell_type": "markdown",
   "metadata": {},
   "source": [
    "### Ejercicio 2 (4 puntos)\n",
    "Escribe una función llamada `energia` para calcular la energía generada por un panel solar de determinada potencia durante un periodo de tiempo dado en horas, la cuál se puede calcular como:\n",
    "$$ Energía = Potencia*Tiempo $$ \n",
    "La potencia debe ser un argumento obligatorio en [W]; el tiempo en [h], en caso de no ser dado deberá ser por default  6 horas. A partir de 1000 Wh la salida deberá ser en kWh, de lo contrario, deberá ser en wH.\n",
    "___\n",
    "\n",
    "**Input**:\n",
    "\n",
    "potencia = 250\n",
    "\n",
    "tiempo = 2\n",
    "\n",
    "`energia(potencia, tiempo)`\n",
    "\n",
    "**Output**: La energía generada es 500 Wh\n",
    "\n",
    "___\n",
    "**Input**:\n",
    "\n",
    "potencia = 1000\n",
    "\n",
    "\n",
    "`energia(potencia)`\n",
    "\n",
    "**Output**: La energía generada es 6 kWh"
   ]
  },
  {
   "cell_type": "markdown",
   "metadata": {},
   "source": [
    "### Ejercicio 3 (6 puntos)\n",
    "Escribe una función llamada `costo` para determinar el costo de la electricidad a partir del consumo. El costo de la electricidad se calcula como sigue:\n",
    "* Para los primeros 150 kWh el precio es de 0.86 por kWh\n",
    "* Para los siguientes 200 kWh el precio es de 1.04 por kWh\n",
    "* Arriba de los 350 kWh el precio es de 3.03 por kWh\n",
    "\n",
    "Es decir, si consumiste 300 kWh, los primero 150 se cobrarán al primer precio y los restantes al segundo precio. Si consumes 805 kWh, los primeros 150 se cobrarán al primer precio, los siguientes 200 al segundo precio y los restantes 455 al último precio. El output deberá ser el costo redondeado a dos decimales.\n",
    "___\n",
    "\n",
    "**Input:**\n",
    "\n",
    "kwh = 855\n",
    "\n",
    "costo(kwh)\n",
    "\n",
    "**Output**:\n",
    "\n",
    "El costo de la electricidad es: $1715.05\n",
    "\n",
    "___\n",
    "**Input:**\n",
    "\n",
    "kwh = 176\n",
    "\n",
    "costo(kwh)\n",
    "\n",
    "**Output**:\n",
    "\n",
    "El costo de la electricidad es: $156.04"
   ]
  },
  {
   "cell_type": "markdown",
   "metadata": {},
   "source": [
    "### Ejercicio 4 (4 puntos)\n",
    "Escribe una función llamada `ordinal` que regrese el ordinal de un número (primero, segundo, tercero...) a partir de un entero dado. La función deberá funcionar para los primeros 10 números (del 1 al 10). Si el número que se ingrese está fuera de este rango, deberá indicarlo.\n",
    "___\n",
    "**Input:**\n",
    "\n",
    "numero = 3\n",
    "\n",
    "ordinal(numero)\n",
    "\n",
    "**Output:**\n",
    "tercero\n",
    "___\n",
    "**Input:**\n",
    "\n",
    "numero = 14\n",
    "\n",
    "ordinal(numero)\n",
    "\n",
    "**Output:**\n",
    "Número fuera de rango\n"
   ]
  },
  {
   "cell_type": "markdown",
   "metadata": {},
   "source": [
    "### Ejercicio 5 (7 puntos)\n",
    "Escribe una función llamada `dias` para determinar cuantos días hay en un mes en particular, los parámetros de entrada serán el mes como un entero del 1 al 12 (1 para enero, 2 para febrero...) y el año como un entero de 4 dígitos. Debes asegurarte que la función imprima correctamente los días de febrero para los años bisiestos.\n",
    "\n",
    "**Input:**\n",
    "\n",
    "mes: 1\n",
    "\n",
    "año: 2001\n",
    "\n",
    "dias(mes, año)\n",
    "\n",
    "**Output:**\n",
    "En enero de 2001 hay 31 días.\n",
    "\n",
    "___\n",
    "\n",
    "**Input:**\n",
    "\n",
    "mes: 2\n",
    "\n",
    "año: 1996\n",
    "\n",
    "dias(mes, año)\n",
    "\n",
    "**Output:**\n",
    "En febrero de 1996 hay 29 días.\n",
    "\n",
    "___"
   ]
  },
  {
   "cell_type": "markdown",
   "metadata": {},
   "source": [
    "### Ejercicio 6\n",
    "#### Parte 1 (5 puntos)\n",
    "Escribe una función llamada `divisores` para calcular los divisores propios de un número. Un divisor propio de $n$ es un entero positivo menor a $n$ que divide exactamente a $n$. El único parámetro de la función será $n$ y deberá regresar una lista con todos sus divisores propios.\n",
    "\n",
    "**Input:**\n",
    "\n",
    "n = 28\n",
    "\n",
    "divisores(n)\n",
    "\n",
    "**Output**: Los divisores propios de 28 son [1,2,4,7,14]\n",
    "___\n",
    "**Input:**\n",
    "\n",
    "n = 41\n",
    "\n",
    "divisores(n)\n",
    "\n",
    "**Output**: Los divisores propios de 41 son [1]"
   ]
  },
  {
   "cell_type": "markdown",
   "metadata": {},
   "source": [
    "#### Parte 2 (6 puntos)\n",
    "Escribe una función llamada `perfectos` que regrese si un número es perfecto o no. Un número $n$ se considera perfecto cuando la suma de todos los divisores propios de $n$ es igual a $n$. Por ejemplo, 28 es un número perfecto porque sus divisores propios son  1, 2, 4, 7 y 14, y 1 + 2 + 4 + 7 + 14 = 28.\n",
    "\n",
    "\n",
    "**Input:**\n",
    "\n",
    "n = 28\n",
    "\n",
    "divisores(n)\n",
    "\n",
    "**Output**: Los divisores propios de 28 son [1,2,4,7,14], 1+2+4+7+14 = 28, 28 es un número perfecto.\n",
    "___\n",
    "**Input:**\n",
    "\n",
    "n = 41\n",
    "\n",
    "divisores(n)\n",
    "\n",
    "**Output**: Los divisores propios de 41 son [1], 1 != 41, 41 no es un número perfecto.\n",
    "_____\n",
    "**Input:**\n",
    "\n",
    "n = 15\n",
    "\n",
    "divisores(n)\n",
    "\n",
    "**Output**: Los divisores propios de 41 son [1,3,5], 1+3+5 != 15, 15 no es un número perfecto."
   ]
  },
  {
   "cell_type": "code",
   "execution_count": null,
   "metadata": {},
   "outputs": [],
   "source": []
  }
 ],
 "metadata": {
  "kernelspec": {
   "display_name": "Python 3",
   "language": "python",
   "name": "python3"
  },
  "language_info": {
   "codemirror_mode": {
    "name": "ipython",
    "version": 3
   },
   "file_extension": ".py",
   "mimetype": "text/x-python",
   "name": "python",
   "nbconvert_exporter": "python",
   "pygments_lexer": "ipython3",
   "version": "3.9.5"
  }
 },
 "nbformat": 4,
 "nbformat_minor": 4
}
