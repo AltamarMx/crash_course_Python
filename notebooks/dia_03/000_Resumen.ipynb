{
 "cells": [
  {
   "cell_type": "markdown",
   "id": "constant-general",
   "metadata": {},
   "source": [
    "# Resumen del d'ia 02\n",
    "1. Importar paquetes en la primer celda\n",
    "1. Usar markdown para darle estructura\n",
    "1. Usar comentarios # como este en el c'odigo\n",
    "1. Las variables se definen al declararse\n",
    "```    \n",
    "a = 1\n",
    "type(a)\n",
    "```"
   ]
  }
 ],
 "metadata": {
  "kernelspec": {
   "display_name": "Python 3",
   "language": "python",
   "name": "python3"
  },
  "language_info": {
   "codemirror_mode": {
    "name": "ipython",
    "version": 3
   },
   "file_extension": ".py",
   "mimetype": "text/x-python",
   "name": "python",
   "nbconvert_exporter": "python",
   "pygments_lexer": "ipython3",
   "version": "3.9.7"
  }
 },
 "nbformat": 4,
 "nbformat_minor": 5
}
