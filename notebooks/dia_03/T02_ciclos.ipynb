{
 "cells": [
  {
   "cell_type": "markdown",
   "metadata": {},
   "source": [
    "# Tarea 2\n",
    "\n",
    "## Ejercicio 1 (6 puntos)\n",
    "El recurso eólico en un determinado sitio puede ser clasificado como \"Pobre\", \"Bueno\", o \"Muy bueno\" a partir de la densidad de potencia definida como $$\\frac{P}{A}=\\frac{1}{2}\\rho U^3$$\n",
    "\n",
    "donde la potencia $P$ se presenta por unidad de área, $A$ es el valor unitario del área, $U$ es la velocidad del viento en m/s y $\\rho$ es la densidad del aire que puede considerarse constante igual a 1.225 kg/m$^3$.\n",
    "\n",
    "La densidad de potencia puede clasificarse como:\n",
    "\n",
    "|P/A [W/m$^2$]|Clasificación del recurso|\n",
    "|------------|-------------------------|\n",
    "|Menor a 100 |Pobre     |\n",
    "|Entre 100 y 700|Bueno  |\n",
    "|Mayor a 700 |Muy bueno |\n",
    "\n",
    "Escribe un programa que a partir de la velocidad del viento, determine cómo es el recurso eólico, deberá imprimir, por ejemplo: **\"La densidad de potencia eólica para 5 m/s es de 76.56 W/m$^2$, el recursó eólico es Pobre\".**\n"
   ]
  },
  {
   "cell_type": "markdown",
   "metadata": {},
   "source": [
    "## Ejercicio 2 (7 puntos)\n",
    "La mayoría de los años tienen 365 años, sin embargo existen también años con 366 días conocidos como bisiestos. Las reglas para determinar si un año es bisiesto o no, son:\n",
    "* Cualquier año divisible por 400 es bisiesto\n",
    "* De los años restantes, cualquier año divisible por 100 no es bisiesto.\n",
    "* De los años restantes, cualquier año divisible entre 4 es bisiesto.\n",
    "* Los años restante no son bisiestos.\n",
    "\n",
    "Escribe un programa que determine si un año es bisiesto o no."
   ]
  },
  {
   "cell_type": "markdown",
   "metadata": {},
   "source": [
    "## Ejercicio 3 (5 puntos)\n",
    "La clave Morse es un código que combina puntos y líneas para representar números y letras, como se muestra en la tabla de abajo.\n",
    "\n",
    "Escribe un programa que, a partir de una frase se imprima su equivalente en clave Morse. Para \"Hola Mundo\" la clave sería \".... --- .-.. .- -- ..- -. -.. ---\" (sin espacio entre Hola y Mundo pero con espacio entre las letras). El programa deberá servir para cualquier otra frase.\n",
    "\n",
    "```\n",
    "Input: Hola Mundo\n",
    "\n",
    "Output: Hola Mundo se escribe como .... --- .-.. .- -- ..- -. -.. --- en clave Morse\n",
    "\n",
    "```\n",
    "\n",
    "**_Hint_**: Puedes almacenar el código en un diccionario."
   ]
  },
  {
   "cell_type": "markdown",
   "metadata": {},
   "source": [
    "|Letter |Code |Letter |Code |Letter |Code |Number |Code|\n",
    "|-------|-----|-------|-----|-------|-----|-------|----|\n",
    "|A| .- |J| .- - - |S| ... |1| .- - - -|\n",
    "|B| -... |K| -.- |T| - |2 |..- - -|\n",
    "|C| -.-. |L| .-.. |U| ..- |3| ...- -|\n",
    "|D| -.. |M| - - |V| ...- |4| ....-|\n",
    "|E| . |N| -. |W| .- - |5| .....|\n",
    "|F| ..-. |O| --- |X| -..- |6| -....|\n",
    "|G| - -. |P| .- -. |Y| -.- - |7| - -...|\n",
    "|H| .... |Q| - -.- |Z| - -.. |8| - - -..|\n",
    "|I| .. |R| .-. |0| ----- |9| - - - -.|"
   ]
  },
  {
   "cell_type": "markdown",
   "metadata": {},
   "source": [
    "## Ejercicio 4\n",
    "### Parte1 (4 puntos)\n",
    "Escribe un programa para determinar si a partir de 3 longitudes dadas es posible o no poder construir un triángulo. Por ejemplo, si una de las longitudes es de 7 cm y las otras dos son de 3 cm, entonces no se puede formar un triángulo. En general, si una de las longitudes es mayor o igual que la suma de las otras dos longitudes entonces no se puede construir un triángulo. \n",
    "\n",
    "El input del programa deberá ser, por ejemplo, longitud1 = 7, longitud2=3, longitud3=3. El programa deberá imprimir si es posible o no construir el triángulo. Por ejemplo, **\"Para las longitudes 7, 3 y 3 no es posible construir un triángulo.\"**"
   ]
  },
  {
   "cell_type": "markdown",
   "metadata": {},
   "source": [
    "### Parte 2 (3 puntos)\n",
    "Modifica tu programa anterior para que, en caso de ser posible construir el triángulo, calcule su área como:$$Área = \\sqrt{s(s-s_1)(s-s_2)(s-s_3)}$$ donde $s_1, s_2$ y $s_3$ son las longitudes de los lados y $s=(s_1+s_2+s_3)/2$.\n",
    "\n",
    "Si es posible construir el triángulo el programa deberá imprimir por ejemplo:\n",
    "**\"Para las longitudes 6, 4 y 3 no es posible construir un triángulo de área\"**\n",
    "\n",
    "Si no es posible imprimirá: **\"No es posible construir un triángulo\"**"
   ]
  },
  {
   "cell_type": "markdown",
   "metadata": {},
   "source": [
    "## Ejercicio 5\n",
    "### Parte 1 (5 puntos)\n",
    "El máximo común divisor de dos enteros positivos, $p$ y $q$, es el mayor número $d$ que divida exactamente a ambos números. Una forma de calcular el mcd es:\n",
    "1. Inicializar $d$ como el número más pequeño de $p$ y $q$.\n",
    "2. Mientras $d$ no divida exactamente a $p$ o $d$ no divida exactamente a $q$:\n",
    "    1. Reduce el valor de d en 1\n",
    "    \n",
    "$d$ será el máximo común divisor para ambos números.\n",
    "\n",
    "Escribe un programa para encontrar el mcd entre dos números. El output deberá ser, por ejemplo, \"El máximo común divisor para 15 y 5 es 5\". Si no hubiera un mcd (en este caso el mcd sería 1), el programa deberá indicarlo."
   ]
  },
  {
   "cell_type": "markdown",
   "metadata": {},
   "source": [
    "### Parte 2 (5 puntos)\n",
    "Escribe una programa que tome dos enteros positivos que representen el numerador y el denominador de una fracción, el programa deberá reducir la fracción y mostrar la fracción lo más reducida posible. El programa de la parte 1 será de utilidad.\n",
    "\n",
    "Por ejemplo:\n",
    "```\n",
    "Input: \n",
    "    Numerador: 6\n",
    "    Denominador 63\n",
    "    \n",
    "Output:\n",
    "    La fracción 6/63 se reduce a 2/21.\n",
    "```\n",
    "\n",
    "Sin decimales (2.0/21.0, estaría erróneo) y si el denominador se reduce a 1 deberá mostrar sólo el numerador, por ejemplo:\n",
    "```\n",
    "Input: \n",
    "    Numerador: 15\n",
    "    Denominador 3\n",
    "    \n",
    "Output:\n",
    "    La fracción 15/3 se reduce a 5.\n",
    "```\n"
   ]
  }
 ],
 "metadata": {
  "kernelspec": {
   "display_name": "Python 3",
   "language": "python",
   "name": "python3"
  },
  "language_info": {
   "codemirror_mode": {
    "name": "ipython",
    "version": 3
   },
   "file_extension": ".py",
   "mimetype": "text/x-python",
   "name": "python",
   "nbconvert_exporter": "python",
   "pygments_lexer": "ipython3",
   "version": "3.8.7"
  }
 },
 "nbformat": 4,
 "nbformat_minor": 4
}
