{
 "cells": [
  {
   "cell_type": "markdown",
   "metadata": {},
   "source": [
    "# Variables, cadenas y listas\n",
    "\n",
    "### 1. Grados celsius a fahrenheint. Dada una temperatura en grados celsius, determina su equivalente en grados Fahrenheint\n",
    "$$ F = 9/5C + 32 $$"
   ]
  },
  {
   "cell_type": "code",
   "execution_count": 6,
   "metadata": {},
   "outputs": [
    {
     "name": "stdout",
     "output_type": "stream",
     "text": [
      "104.0\n"
     ]
    }
   ],
   "source": [
    "print(F)"
   ]
  },
  {
   "cell_type": "code",
   "execution_count": 7,
   "metadata": {},
   "outputs": [
    {
     "data": {
      "text/plain": [
       "int"
      ]
     },
     "execution_count": 7,
     "metadata": {},
     "output_type": "execute_result"
    }
   ],
   "source": [
    "type(C)"
   ]
  },
  {
   "cell_type": "code",
   "execution_count": 8,
   "metadata": {},
   "outputs": [
    {
     "data": {
      "text/plain": [
       "float"
      ]
     },
     "execution_count": 8,
     "metadata": {},
     "output_type": "execute_result"
    }
   ],
   "source": [
    "type(F)"
   ]
  },
  {
   "cell_type": "code",
   "execution_count": 10,
   "metadata": {},
   "outputs": [],
   "source": [
    "C = 106 # Grados centigrados\n",
    "F = 9/5*C+32 # Grados fahrenheint"
   ]
  },
  {
   "cell_type": "code",
   "execution_count": 89,
   "metadata": {},
   "outputs": [
    {
     "name": "stdout",
     "output_type": "stream",
     "text": [
      "106 °C equivale a 222.8 °F\n"
     ]
    }
   ],
   "source": [
    "print(C, \"°C equivale a\", F,\"°F\") #Imprimir valores"
   ]
  },
  {
   "cell_type": "code",
   "execution_count": 90,
   "metadata": {},
   "outputs": [
    {
     "name": "stdout",
     "output_type": "stream",
     "text": [
      "106° equivale a 222.8\n"
     ]
    }
   ],
   "source": [
    "print(str(C)+\"° equivale a \"+ str(F)) #Concatenar"
   ]
  },
  {
   "cell_type": "code",
   "execution_count": 20,
   "metadata": {},
   "outputs": [],
   "source": [
    "centi = str(C)"
   ]
  },
  {
   "cell_type": "code",
   "execution_count": 21,
   "metadata": {},
   "outputs": [
    {
     "data": {
      "text/plain": [
       "str"
      ]
     },
     "execution_count": 21,
     "metadata": {},
     "output_type": "execute_result"
    }
   ],
   "source": [
    "type(centi)"
   ]
  },
  {
   "cell_type": "code",
   "execution_count": 23,
   "metadata": {},
   "outputs": [
    {
     "data": {
      "text/plain": [
       "106"
      ]
     },
     "execution_count": 23,
     "metadata": {},
     "output_type": "execute_result"
    }
   ],
   "source": [
    "int(centi)"
   ]
  },
  {
   "cell_type": "code",
   "execution_count": 16,
   "metadata": {},
   "outputs": [
    {
     "data": {
      "text/plain": [
       "101"
      ]
     },
     "execution_count": 16,
     "metadata": {},
     "output_type": "execute_result"
    }
   ],
   "source": [
    "C - 5"
   ]
  },
  {
   "cell_type": "code",
   "execution_count": 17,
   "metadata": {},
   "outputs": [
    {
     "ename": "TypeError",
     "evalue": "unsupported operand type(s) for -: 'str' and 'int'",
     "output_type": "error",
     "traceback": [
      "\u001b[1;31m---------------------------------------------------------------------------\u001b[0m",
      "\u001b[1;31mTypeError\u001b[0m                                 Traceback (most recent call last)",
      "\u001b[1;32m<ipython-input-17-e08e19f88582>\u001b[0m in \u001b[0;36m<module>\u001b[1;34m\u001b[0m\n\u001b[1;32m----> 1\u001b[1;33m \u001b[0mstr\u001b[0m\u001b[1;33m(\u001b[0m\u001b[0mC\u001b[0m\u001b[1;33m)\u001b[0m \u001b[1;33m-\u001b[0m \u001b[1;36m5\u001b[0m\u001b[1;33m\u001b[0m\u001b[1;33m\u001b[0m\u001b[0m\n\u001b[0m",
      "\u001b[1;31mTypeError\u001b[0m: unsupported operand type(s) for -: 'str' and 'int'"
     ]
    }
   ],
   "source": [
    "str(C) - 5"
   ]
  },
  {
   "cell_type": "markdown",
   "metadata": {},
   "source": [
    "### 2. Convertir listas a cadenas y al revés\n",
    "\n",
    "Input: \"Python es mi clase favorita\"\n",
    "\n",
    "Output: [\"Python\", \"es\", \"mi\", \"clase\", \"favorita\"]\n",
    "\n",
    "https://docs.python.org/3/library/stdtypes.html"
   ]
  },
  {
   "cell_type": "code",
   "execution_count": 32,
   "metadata": {},
   "outputs": [],
   "source": [
    "frase = \"Python es mi clase favorita\""
   ]
  },
  {
   "cell_type": "code",
   "execution_count": 37,
   "metadata": {},
   "outputs": [
    {
     "data": {
      "text/plain": [
       "['Python e', ' mi cla', 'e favorita']"
      ]
     },
     "execution_count": 37,
     "metadata": {},
     "output_type": "execute_result"
    }
   ],
   "source": [
    "frase.split(\"s\") #separar"
   ]
  },
  {
   "cell_type": "code",
   "execution_count": 26,
   "metadata": {},
   "outputs": [],
   "source": [
    "lista_1 = frase.split()"
   ]
  },
  {
   "cell_type": "code",
   "execution_count": 27,
   "metadata": {},
   "outputs": [
    {
     "data": {
      "text/plain": [
       "list"
      ]
     },
     "execution_count": 27,
     "metadata": {},
     "output_type": "execute_result"
    }
   ],
   "source": [
    "type(lista_1)"
   ]
  },
  {
   "cell_type": "code",
   "execution_count": 29,
   "metadata": {},
   "outputs": [
    {
     "data": {
      "text/plain": [
       "['Python', 'es', 'mi', 'clase', 'favorita']"
      ]
     },
     "execution_count": 29,
     "metadata": {},
     "output_type": "execute_result"
    }
   ],
   "source": [
    "lista_1"
   ]
  },
  {
   "cell_type": "code",
   "execution_count": 34,
   "metadata": {},
   "outputs": [],
   "source": [
    "espacio = \"+\""
   ]
  },
  {
   "cell_type": "code",
   "execution_count": 38,
   "metadata": {},
   "outputs": [
    {
     "data": {
      "text/plain": [
       "'Python+es+mi+clase+favorita'"
      ]
     },
     "execution_count": 38,
     "metadata": {},
     "output_type": "execute_result"
    }
   ],
   "source": [
    "espacio.join(lista_1) #unir"
   ]
  },
  {
   "cell_type": "markdown",
   "metadata": {},
   "source": [
    "### 3. Buscar palabras. Busca todas las repeticiones de la palabra \"energía\" en el siguiente texto:\n",
    "> Desde la crisis del petróleo en 1973, fue claro tanto para los países desarrollados como los que se encontraban en vías de desarrollo, el de realizar grandes esfuerzos científicos y tecnológicos encaminados principalmente en dos vertientes: el ahorro y uso eficiente de energía, y la diversificación de las fuentes de la energía, entre las que se encuentran, las energías renovables. En este contexto, la Universidad Nacional Autónoma de México (UNAM) tomando conciencia de estos esfuerzos, tuvo la visión de formar profesionales de alto nivel en las dos vertientes señaladas, por lo que en el año de 1984 creó la Maestría en Energética en la Facultad de Ingeniería de Ciudad Universitaria. Tres años más tarde se abrió la Maestría en Energía Solar (con dos opciones: Fototérmica y Fotovoltaica) en el antiguo Centro de Investigación en Energía (antes Laboratorio de Energía Solar) ahora Instituto de Energías Renovables en Temixco, Morelos. Desde sus inicios hasta 1998 se inscribieron en este programa un total de 82 alumnos de maestría, obteniéndose una eficiencia terminal del 55%. Posteriormente en 1999 y por acuerdo del Rector Francisco Barnés de Castro, se adecuaron todos los posgrados de la UNAM, de tal forma que en este nuevo esquema, los posgrados existentes dejaron de pertenecer a una entidad determinada y se crearon nuevos programas en donde participan todas las entidades involucradas con un tema general (pero incluyendo campos de conocimiento más específicos). En este nuevo programa de posgrado se logró integrar a profesores de facultades e investigadores de centros e institutos, incluyendo el aprovechamiento de la infraestructura de cada entidad académica participante. De esta forma, se creó en ese mismo año 1999 el Programa de Maestría en Ingeniería (Energía), único en el País, con una orientación hacia la investigación científica y científica-práctica."
   ]
  },
  {
   "cell_type": "code",
   "execution_count": 39,
   "metadata": {},
   "outputs": [],
   "source": [
    "texto = \"Desde la crisis del petróleo en 1973, fue claro tanto para los países desarrollados como los que se encontraban en vías de desarrollo, el de realizar grandes esfuerzos científicos y tecnológicos encaminados principalmente en dos vertientes: el ahorro y uso eficiente de energía, y la diversificación de las fuentes de la energía, entre las que se encuentran, las energías renovables. En este contexto, la Universidad Nacional Autónoma de México (UNAM) tomando conciencia de estos esfuerzos, tuvo la visión de formar profesionales de alto nivel en las dos vertientes señaladas, por lo que en el año de 1984 creó la Maestría en Energética en la Facultad de Ingeniería de Ciudad Universitaria. Tres años más tarde se abrió la Maestría en Energía Solar (con dos opciones: Fototérmica y Fotovoltaica) en el antiguo Centro de Investigación en Energía (antes Laboratorio de Energía Solar) ahora Instituto de Energías Renovables en Temixco, Morelos. Desde sus inicios hasta 1998 se inscribieron en este programa un total de 82 alumnos de maestría, obteniéndose una eficiencia terminal del 55%. Posteriormente en 1999 y por acuerdo del Rector Francisco Barnés de Castro, se adecuaron todos los posgrados de la UNAM, de tal forma que en este nuevo esquema, los posgrados existentes dejaron de pertenecer a una entidad determinada y se crearon nuevos programas en donde participan todas las entidades involucradas con un tema general (pero incluyendo campos de conocimiento más específicos). En este nuevo programa de posgrado se logró integrar a profesores de facultades e investigadores de centros e institutos, incluyendo el aprovechamiento de la infraestructura de cada entidad académica participante. De esta forma, se creó en ese mismo año 1999 el Programa de Maestría en Ingeniería (Energía), único en el País, con una orientación hacia la investigación científica y científica-práctica.\""
   ]
  },
  {
   "cell_type": "code",
   "execution_count": 40,
   "metadata": {},
   "outputs": [],
   "source": [
    "palabra = \"Energía\""
   ]
  },
  {
   "cell_type": "code",
   "execution_count": 51,
   "metadata": {},
   "outputs": [
    {
     "data": {
      "text/plain": [
       "'Energía Sol'"
      ]
     },
     "execution_count": 51,
     "metadata": {},
     "output_type": "execute_result"
    }
   ],
   "source": [
    "texto[735:746]"
   ]
  },
  {
   "cell_type": "code",
   "execution_count": 41,
   "metadata": {},
   "outputs": [
    {
     "data": {
      "text/plain": [
       "735"
      ]
     },
     "execution_count": 41,
     "metadata": {},
     "output_type": "execute_result"
    }
   ],
   "source": [
    "texto.find(palabra)"
   ]
  },
  {
   "cell_type": "code",
   "execution_count": 42,
   "metadata": {},
   "outputs": [
    {
     "data": {
      "text/plain": [
       "5"
      ]
     },
     "execution_count": 42,
     "metadata": {},
     "output_type": "execute_result"
    }
   ],
   "source": [
    "texto.count(palabra)"
   ]
  },
  {
   "cell_type": "code",
   "execution_count": 43,
   "metadata": {},
   "outputs": [
    {
     "data": {
      "text/plain": [
       "'energía'"
      ]
     },
     "execution_count": 43,
     "metadata": {},
     "output_type": "execute_result"
    }
   ],
   "source": [
    "palabra.lower()"
   ]
  },
  {
   "cell_type": "code",
   "execution_count": 44,
   "metadata": {},
   "outputs": [],
   "source": [
    "texto_tmp = texto.lower()\n",
    "palabra_tmp = palabra.lower()"
   ]
  },
  {
   "cell_type": "code",
   "execution_count": 45,
   "metadata": {},
   "outputs": [
    {
     "data": {
      "text/plain": [
       "8"
      ]
     },
     "execution_count": 45,
     "metadata": {},
     "output_type": "execute_result"
    }
   ],
   "source": [
    "texto_tmp.count(palabra_tmp)"
   ]
  },
  {
   "cell_type": "code",
   "execution_count": null,
   "metadata": {},
   "outputs": [],
   "source": []
  },
  {
   "cell_type": "code",
   "execution_count": 46,
   "metadata": {},
   "outputs": [
    {
     "data": {
      "text/plain": [
       "8"
      ]
     },
     "execution_count": 46,
     "metadata": {},
     "output_type": "execute_result"
    }
   ],
   "source": [
    "texto = \"Desde la crisis del petróleo en 1973, fue claro tanto para los países desarrollados como los que se encontraban en vías de desarrollo, el de realizar grandes esfuerzos científicos y tecnológicos encaminados principalmente en dos vertientes: el ahorro y uso eficiente de energía, y la diversificación de las fuentes de la energía, entre las que se encuentran, las energías renovables. En este contexto, la Universidad Nacional Autónoma de México (UNAM) tomando conciencia de estos esfuerzos, tuvo la visión de formar profesionales de alto nivel en las dos vertientes señaladas, por lo que en el año de 1984 creó la Maestría en Energética en la Facultad de Ingeniería de Ciudad Universitaria. Tres años más tarde se abrió la Maestría en Energía Solar (con dos opciones: Fototérmica y Fotovoltaica) en el antiguo Centro de Investigación en Energía (antes Laboratorio de Energía Solar) ahora Instituto de Energías Renovables en Temixco, Morelos. Desde sus inicios hasta 1998 se inscribieron en este programa un total de 82 alumnos de maestría, obteniéndose una eficiencia terminal del 55%. Posteriormente en 1999 y por acuerdo del Rector Francisco Barnés de Castro, se adecuaron todos los posgrados de la UNAM, de tal forma que en este nuevo esquema, los posgrados existentes dejaron de pertenecer a una entidad determinada y se crearon nuevos programas en donde participan todas las entidades involucradas con un tema general (pero incluyendo campos de conocimiento más específicos). En este nuevo programa de posgrado se logró integrar a profesores de facultades e investigadores de centros e institutos, incluyendo el aprovechamiento de la infraestructura de cada entidad académica participante. De esta forma, se creó en ese mismo año 1999 el Programa de Maestría en Ingeniería (Energía), único en el País, con una orientación hacia la investigación científica y científica-práctica.\"\n",
    "palabra = \"Energía\"\n",
    "\n",
    "texto_tmp = texto.lower()\n",
    "palabra_tmp = palabra.lower()\n",
    "\n",
    "count = texto_tmp.count(palabra_tmp)\n",
    "\n",
    "count"
   ]
  },
  {
   "cell_type": "code",
   "execution_count": 48,
   "metadata": {},
   "outputs": [
    {
     "data": {
      "text/plain": [
       "8"
      ]
     },
     "execution_count": 48,
     "metadata": {},
     "output_type": "execute_result"
    }
   ],
   "source": [
    "texto = \"Desde la crisis del petróleo en 1973, fue claro tanto para los países desarrollados como los que se encontraban en vías de desarrollo, el de realizar grandes esfuerzos científicos y tecnológicos encaminados principalmente en dos vertientes: el ahorro y uso eficiente de energía, y la diversificación de las fuentes de la energía, entre las que se encuentran, las energías renovables. En este contexto, la Universidad Nacional Autónoma de México (UNAM) tomando conciencia de estos esfuerzos, tuvo la visión de formar profesionales de alto nivel en las dos vertientes señaladas, por lo que en el año de 1984 creó la Maestría en Energética en la Facultad de Ingeniería de Ciudad Universitaria. Tres años más tarde se abrió la Maestría en Energía Solar (con dos opciones: Fototérmica y Fotovoltaica) en el antiguo Centro de Investigación en Energía (antes Laboratorio de Energía Solar) ahora Instituto de Energías Renovables en Temixco, Morelos. Desde sus inicios hasta 1998 se inscribieron en este programa un total de 82 alumnos de maestría, obteniéndose una eficiencia terminal del 55%. Posteriormente en 1999 y por acuerdo del Rector Francisco Barnés de Castro, se adecuaron todos los posgrados de la UNAM, de tal forma que en este nuevo esquema, los posgrados existentes dejaron de pertenecer a una entidad determinada y se crearon nuevos programas en donde participan todas las entidades involucradas con un tema general (pero incluyendo campos de conocimiento más específicos). En este nuevo programa de posgrado se logró integrar a profesores de facultades e investigadores de centros e institutos, incluyendo el aprovechamiento de la infraestructura de cada entidad académica participante. De esta forma, se creó en ese mismo año 1999 el Programa de Maestría en Ingeniería (Energía), único en el País, con una orientación hacia la investigación científica y científica-práctica.\"\n",
    "\n",
    "texto.lower().count(\"Energía\".lower())"
   ]
  },
  {
   "cell_type": "markdown",
   "metadata": {},
   "source": [
    "### 4. Ordenar números\n",
    "Crea un programa que lea tres enteros y los muestre en orden (de menor a mayor).\n",
    "Por ejemplo, para \n",
    "```python\n",
    "a=14\n",
    "b=3\n",
    "c=54\n",
    "```\n",
    "deberá mostrar\n",
    "\n",
    "Los números ordenados son: 3 14 54"
   ]
  },
  {
   "cell_type": "code",
   "execution_count": 65,
   "metadata": {},
   "outputs": [],
   "source": [
    "a = 1400\n",
    "b = 300\n",
    "c = 0.54"
   ]
  },
  {
   "cell_type": "code",
   "execution_count": 55,
   "metadata": {},
   "outputs": [
    {
     "name": "stdout",
     "output_type": "stream",
     "text": [
      "Los numeros ordenados son 300 14 54\n"
     ]
    }
   ],
   "source": [
    "print(\"Los numeros ordenados son\",b, a, c)"
   ]
  },
  {
   "cell_type": "code",
   "execution_count": 56,
   "metadata": {},
   "outputs": [],
   "source": [
    "#min() = mn #No debe hacerse, palabra reservada"
   ]
  },
  {
   "cell_type": "code",
   "execution_count": 66,
   "metadata": {},
   "outputs": [
    {
     "name": "stdout",
     "output_type": "stream",
     "text": [
      "Los numeros ordenados son 0.54 300.0 1400\n"
     ]
    }
   ],
   "source": [
    "mn = min(a,b,c)\n",
    "mx = max(a,b,c)\n",
    "md = a+b+c-mn-mx\n",
    "\n",
    "print(\"Los numeros ordenados son\",mn,md,mx)"
   ]
  },
  {
   "cell_type": "markdown",
   "metadata": {},
   "source": [
    "### 5. Elementos en una lista\n",
    "Agrega el elemento 7000 después de 6000 en la siguiente lista:\n",
    "```python\n",
    "list1 = [10, 20, [300, 400, [5000, 6000], 500], 30, 40]\n",
    "\n",
    "list1 = [10, 20, [300, 400, [5000, 6000,7000], 500], 30, 40]\n",
    "```\n",
    "\n",
    "__Las listas siempre empiezan en cero__"
   ]
  },
  {
   "cell_type": "code",
   "execution_count": 67,
   "metadata": {},
   "outputs": [],
   "source": [
    "list1 = [10, 20, [300, 400, [5000, 6000], 500], 30, 40]"
   ]
  },
  {
   "cell_type": "code",
   "execution_count": 68,
   "metadata": {},
   "outputs": [
    {
     "data": {
      "text/plain": [
       "10"
      ]
     },
     "execution_count": 68,
     "metadata": {},
     "output_type": "execute_result"
    }
   ],
   "source": [
    "list1[0]"
   ]
  },
  {
   "cell_type": "code",
   "execution_count": 69,
   "metadata": {},
   "outputs": [
    {
     "data": {
      "text/plain": [
       "20"
      ]
     },
     "execution_count": 69,
     "metadata": {},
     "output_type": "execute_result"
    }
   ],
   "source": [
    "list1[1]"
   ]
  },
  {
   "cell_type": "code",
   "execution_count": 73,
   "metadata": {},
   "outputs": [
    {
     "data": {
      "text/plain": [
       "[300, 400, [5000, 6000], 500]"
      ]
     },
     "execution_count": 73,
     "metadata": {},
     "output_type": "execute_result"
    }
   ],
   "source": [
    "list1[2]"
   ]
  },
  {
   "cell_type": "code",
   "execution_count": 72,
   "metadata": {},
   "outputs": [
    {
     "data": {
      "text/plain": [
       "300"
      ]
     },
     "execution_count": 72,
     "metadata": {},
     "output_type": "execute_result"
    }
   ],
   "source": [
    "list1[2][0]"
   ]
  },
  {
   "cell_type": "code",
   "execution_count": 79,
   "metadata": {},
   "outputs": [
    {
     "ename": "AttributeError",
     "evalue": "'int' object has no attribute 'append'",
     "output_type": "error",
     "traceback": [
      "\u001b[1;31m---------------------------------------------------------------------------\u001b[0m",
      "\u001b[1;31mAttributeError\u001b[0m                            Traceback (most recent call last)",
      "\u001b[1;32m<ipython-input-79-dc3aab296140>\u001b[0m in \u001b[0;36m<module>\u001b[1;34m\u001b[0m\n\u001b[1;32m----> 1\u001b[1;33m \u001b[0mlist1\u001b[0m\u001b[1;33m[\u001b[0m\u001b[1;36m2\u001b[0m\u001b[1;33m]\u001b[0m\u001b[1;33m[\u001b[0m\u001b[1;36m0\u001b[0m\u001b[1;33m]\u001b[0m\u001b[1;33m.\u001b[0m\u001b[0mappend\u001b[0m\u001b[1;33m(\u001b[0m\u001b[1;36m7000\u001b[0m\u001b[1;33m)\u001b[0m\u001b[1;33m\u001b[0m\u001b[1;33m\u001b[0m\u001b[0m\n\u001b[0m",
      "\u001b[1;31mAttributeError\u001b[0m: 'int' object has no attribute 'append'"
     ]
    }
   ],
   "source": [
    "list1[2][0].append(7000)"
   ]
  },
  {
   "cell_type": "code",
   "execution_count": 78,
   "metadata": {},
   "outputs": [
    {
     "data": {
      "text/plain": [
       "[10, 20, [300, 400, [5000, 6000, 7000], 500], 30, 40]"
      ]
     },
     "execution_count": 78,
     "metadata": {},
     "output_type": "execute_result"
    }
   ],
   "source": [
    "list1"
   ]
  },
  {
   "cell_type": "markdown",
   "metadata": {},
   "source": [
    "### Intercambiar variables"
   ]
  },
  {
   "cell_type": "code",
   "execution_count": 80,
   "metadata": {},
   "outputs": [],
   "source": [
    "a = \"variable 1\"\n",
    "b = \"variable 2\""
   ]
  },
  {
   "cell_type": "code",
   "execution_count": 81,
   "metadata": {},
   "outputs": [
    {
     "name": "stdout",
     "output_type": "stream",
     "text": [
      "variable 1 variable 2\n"
     ]
    }
   ],
   "source": [
    "print(a,b)"
   ]
  },
  {
   "cell_type": "code",
   "execution_count": 82,
   "metadata": {},
   "outputs": [
    {
     "name": "stdout",
     "output_type": "stream",
     "text": [
      "variable 2 variable 1\n"
     ]
    }
   ],
   "source": [
    "tmp = a\n",
    "a = b\n",
    "b = tmp\n",
    "\n",
    "print(a,b)"
   ]
  },
  {
   "cell_type": "code",
   "execution_count": 86,
   "metadata": {},
   "outputs": [],
   "source": [
    "a = \"variable 1\"\n",
    "b = \"variable 2\"\n",
    "c = 100"
   ]
  },
  {
   "cell_type": "code",
   "execution_count": 84,
   "metadata": {},
   "outputs": [
    {
     "name": "stdout",
     "output_type": "stream",
     "text": [
      "variable 2 variable 1\n"
     ]
    }
   ],
   "source": [
    "a, b = b, a\n",
    "\n",
    "print(a, b)"
   ]
  },
  {
   "cell_type": "code",
   "execution_count": 87,
   "metadata": {},
   "outputs": [
    {
     "name": "stdout",
     "output_type": "stream",
     "text": [
      "variable 1 variable 2 100\n"
     ]
    }
   ],
   "source": [
    "print(a,b,c)"
   ]
  },
  {
   "cell_type": "code",
   "execution_count": 88,
   "metadata": {},
   "outputs": [
    {
     "name": "stdout",
     "output_type": "stream",
     "text": [
      "variable 2 100 variable 1\n"
     ]
    }
   ],
   "source": [
    "c,b,a = a,c,b\n",
    "\n",
    "print(a,b,c)"
   ]
  },
  {
   "cell_type": "code",
   "execution_count": null,
   "metadata": {},
   "outputs": [],
   "source": []
  }
 ],
 "metadata": {
  "kernelspec": {
   "display_name": "Python 3",
   "language": "python",
   "name": "python3"
  },
  "language_info": {
   "codemirror_mode": {
    "name": "ipython",
    "version": 3
   },
   "file_extension": ".py",
   "mimetype": "text/x-python",
   "name": "python",
   "nbconvert_exporter": "python",
   "pygments_lexer": "ipython3",
   "version": "3.8.7"
  }
 },
 "nbformat": 4,
 "nbformat_minor": 4
}
