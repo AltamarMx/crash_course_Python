{
 "cells": [
  {
   "cell_type": "markdown",
   "id": "41cc7337",
   "metadata": {},
   "source": [
    "# Día 02: Tipos de variables\n",
    "\n",
    "### Objetivo: Conocer los distintos tipos de variables en python y sus usos \n",
    "\n",
    "1. Enteros y dobles\n",
    "1. Cadenas\n",
    "1. Booleanos\n",
    "1. Tuplas\n",
    "1. Listas\n",
    "1. Iterables\n",
    "1. Diccionarios\n",
    "1. Uso simple de print()"
   ]
  },
  {
   "cell_type": "markdown",
   "id": "8ca1c0ee",
   "metadata": {},
   "source": [
    "¿Qué es una variable?\n",
    "\n",
    "En programación, una variable es un espacio reservado en la memoria de nuestro ordenador para almacenar un dato que puede ser usado o modificado tantas veces como se desee. Además, las variables deben tener un nombre asociado al dato que almacenan. Es decir, podemos tener una variable llamada Nombre para almacenar el nombre (dato) de una persona, una variable llamada Edad para almacenar la edad (dato), etc."
   ]
  },
  {
   "cell_type": "markdown",
   "id": "2b768764",
   "metadata": {},
   "source": [
    "¿Qué es un dato? \n",
    "\n",
    "En programación, un dato es la expresión general que describe las características de las entidades sobre las cuales opera un algoritmo. \n",
    "\n",
    "Tipos de datos básicos: \n",
    "\n",
    "* **Numéricos:** En Python los números pueden ser enteros y flotantes. \n",
    "\n",
    "* **Cadenas:** Aunque las cadenas no son usualmente importantes para análisis numérico, sí lo son para mostrar resultados por la terminal o shell. Una cadena debe delimitarse con comillas simples o dobles.\n",
    "\n",
    "* **Booleanos:** Los tipos de datos booleanos se utilizan para representar verdadero y falso, mediante las palabras reservadas True o False respectivamente. Este tipo de datos es muy importante en para el control de flujo de un programa. \n",
    "\n",
    "* **Listas:** Una lista es una colección de objetos: números enteros, flotantes, complejos, cadenas, etc. Una lista se delimita utilizando [] y sus elementos han de separarse con comas. Es posible acceder a sus elementos indicando el índice del elemento deseado. \n",
    "\n",
    "* **Tuplas:** En muchos sentidos una tupla es como una lista pero no se puede modificar después de su creación. Puede ser de elementos del mismo o diferente tipo. \n",
    "\n",
    "* **Diccionario:** Un diccionario se compone de dos partes: una llave (palabra) y un valor (definición). Las llaves siempre deben ser un tipo de dato primitivo. La llave y el valor se separan con : y sus elementos con comas."
   ]
  },
  {
   "cell_type": "code",
   "execution_count": 1,
   "id": "68dc6248",
   "metadata": {},
   "outputs": [
    {
     "data": {
      "text/plain": [
       "tuple"
      ]
     },
     "execution_count": 1,
     "metadata": {},
     "output_type": "execute_result"
    }
   ],
   "source": [
    "numero = 2017\n",
    "decimal = 5.20098876678766678899\n",
    "boleano = True\n",
    "cadena = \"Hola mundo de python 12345\"\n",
    "lista = [\"a\",\"b\",\"c\",10,False]\n",
    "tupla = (19645, 59621, '¡hola python!')\n",
    "diccionario = {\"a\":2, \"b\":14}\n",
    "\n",
    "type(tupla)"
   ]
  },
  {
   "cell_type": "markdown",
   "id": "ec825aa8",
   "metadata": {},
   "source": [
    "## Datos numéricos"
   ]
  },
  {
   "cell_type": "code",
   "execution_count": 2,
   "id": "78212952",
   "metadata": {},
   "outputs": [
    {
     "data": {
      "text/plain": [
       "64"
      ]
     },
     "execution_count": 2,
     "metadata": {},
     "output_type": "execute_result"
    }
   ],
   "source": [
    "10 + 54"
   ]
  },
  {
   "cell_type": "code",
   "execution_count": 3,
   "id": "c6142a5f",
   "metadata": {},
   "outputs": [
    {
     "data": {
      "text/plain": [
       "3.0"
      ]
     },
     "execution_count": 3,
     "metadata": {},
     "output_type": "execute_result"
    }
   ],
   "source": [
    "6/2"
   ]
  },
  {
   "cell_type": "code",
   "execution_count": 4,
   "id": "8e45476b",
   "metadata": {},
   "outputs": [
    {
     "data": {
      "text/plain": [
       "15"
      ]
     },
     "execution_count": 4,
     "metadata": {},
     "output_type": "execute_result"
    }
   ],
   "source": [
    "3*5"
   ]
  },
  {
   "cell_type": "code",
   "execution_count": 5,
   "id": "5ded709d",
   "metadata": {},
   "outputs": [
    {
     "data": {
      "text/plain": [
       "1224"
      ]
     },
     "execution_count": 5,
     "metadata": {},
     "output_type": "execute_result"
    }
   ],
   "source": [
    "1234-10"
   ]
  },
  {
   "cell_type": "code",
   "execution_count": 6,
   "id": "69bfd0e2",
   "metadata": {},
   "outputs": [
    {
     "data": {
      "text/plain": [
       "706.86"
      ]
     },
     "execution_count": 6,
     "metadata": {},
     "output_type": "execute_result"
    }
   ],
   "source": [
    "#Área de un círculo\n",
    "3.1416*(15*15)"
   ]
  },
  {
   "cell_type": "code",
   "execution_count": 8,
   "id": "cbbef5ae",
   "metadata": {},
   "outputs": [
    {
     "data": {
      "text/plain": [
       "706.86"
      ]
     },
     "execution_count": 8,
     "metadata": {},
     "output_type": "execute_result"
    }
   ],
   "source": [
    "3.1416*(15**2)"
   ]
  },
  {
   "cell_type": "code",
   "execution_count": 9,
   "id": "3935d02e",
   "metadata": {},
   "outputs": [
    {
     "data": {
      "text/plain": [
       "706.86"
      ]
     },
     "execution_count": 9,
     "metadata": {},
     "output_type": "execute_result"
    }
   ],
   "source": [
    "3.1416 * pow(15,2)"
   ]
  },
  {
   "cell_type": "code",
   "execution_count": 10,
   "id": "d5b1f0bc",
   "metadata": {},
   "outputs": [
    {
     "data": {
      "text/plain": [
       "7"
      ]
     },
     "execution_count": 10,
     "metadata": {},
     "output_type": "execute_result"
    }
   ],
   "source": [
    "#Tengo 12, le sumo 10, y a eso le resto 3, el resultado por 5\n",
    "12+10-3*5"
   ]
  },
  {
   "cell_type": "code",
   "execution_count": 11,
   "id": "0c1cc5c3",
   "metadata": {},
   "outputs": [
    {
     "data": {
      "text/plain": [
       "95"
      ]
     },
     "execution_count": 11,
     "metadata": {},
     "output_type": "execute_result"
    }
   ],
   "source": [
    "#Operacion organizada por parentesis\n",
    "((12+10)-3)*5"
   ]
  },
  {
   "cell_type": "code",
   "execution_count": 12,
   "id": "4d7d2ed1",
   "metadata": {},
   "outputs": [
    {
     "data": {
      "text/plain": [
       "4"
      ]
     },
     "execution_count": 12,
     "metadata": {},
     "output_type": "execute_result"
    }
   ],
   "source": [
    "# Operadores\n",
    "2 + 2 #Suma"
   ]
  },
  {
   "cell_type": "code",
   "execution_count": 13,
   "id": "951b14fe",
   "metadata": {},
   "outputs": [
    {
     "data": {
      "text/plain": [
       "42"
      ]
     },
     "execution_count": 13,
     "metadata": {},
     "output_type": "execute_result"
    }
   ],
   "source": [
    "6*7 #Multiplicacion\n"
   ]
  },
  {
   "cell_type": "code",
   "execution_count": 14,
   "id": "a1402e57",
   "metadata": {},
   "outputs": [
    {
     "data": {
      "text/plain": [
       "65536"
      ]
     },
     "execution_count": 14,
     "metadata": {},
     "output_type": "execute_result"
    }
   ],
   "source": [
    "2**16 #Potencia"
   ]
  },
  {
   "cell_type": "code",
   "execution_count": 15,
   "id": "32c93c76",
   "metadata": {},
   "outputs": [
    {
     "data": {
      "text/plain": [
       "3"
      ]
     },
     "execution_count": 15,
     "metadata": {},
     "output_type": "execute_result"
    }
   ],
   "source": [
    "13%5 #Módulo"
   ]
  },
  {
   "cell_type": "code",
   "execution_count": 16,
   "id": "40c8ee67",
   "metadata": {},
   "outputs": [
    {
     "data": {
      "text/plain": [
       "True"
      ]
     },
     "execution_count": 16,
     "metadata": {},
     "output_type": "execute_result"
    }
   ],
   "source": [
    "3 < 4"
   ]
  },
  {
   "cell_type": "markdown",
   "id": "201c2112",
   "metadata": {},
   "source": [
    "## Strings, cadenas"
   ]
  },
  {
   "cell_type": "code",
   "execution_count": 17,
   "id": "77e62e67",
   "metadata": {},
   "outputs": [],
   "source": [
    "texto = \"programando en python\""
   ]
  },
  {
   "cell_type": "code",
   "execution_count": 18,
   "id": "b51327cf",
   "metadata": {},
   "outputs": [
    {
     "name": "stdout",
     "output_type": "stream",
     "text": [
      "programando en python\n"
     ]
    }
   ],
   "source": [
    "print(texto)"
   ]
  },
  {
   "cell_type": "code",
   "execution_count": 19,
   "id": "91e26cc4",
   "metadata": {},
   "outputs": [
    {
     "data": {
      "text/plain": [
       "str"
      ]
     },
     "execution_count": 19,
     "metadata": {},
     "output_type": "execute_result"
    }
   ],
   "source": [
    "type(texto)"
   ]
  },
  {
   "cell_type": "markdown",
   "id": "c7a21247",
   "metadata": {},
   "source": [
    "### Concatenación\n",
    "Es el proceso de anexar una cadena al final de otra cadena"
   ]
  },
  {
   "cell_type": "code",
   "execution_count": 22,
   "id": "c20c6d07",
   "metadata": {},
   "outputs": [],
   "source": [
    "palabra = \"Hola\"\n",
    "segundaPalabra = \"mundo\"\n"
   ]
  },
  {
   "cell_type": "code",
   "execution_count": 24,
   "id": "689c9230",
   "metadata": {},
   "outputs": [
    {
     "data": {
      "text/plain": [
       "'Holamundo'"
      ]
     },
     "execution_count": 24,
     "metadata": {},
     "output_type": "execute_result"
    }
   ],
   "source": [
    "mensaje = palabra + segundaPalabra\n",
    "mensaje"
   ]
  },
  {
   "cell_type": "code",
   "execution_count": 27,
   "id": "f5191360",
   "metadata": {},
   "outputs": [
    {
     "data": {
      "text/plain": [
       "'Hola mundo'"
      ]
     },
     "execution_count": 27,
     "metadata": {},
     "output_type": "execute_result"
    }
   ],
   "source": [
    "mensaje = palabra + \" \" + segundaPalabra\n",
    "mensaje"
   ]
  },
  {
   "cell_type": "markdown",
   "id": "84bff0de",
   "metadata": {},
   "source": [
    "### Métodos en strings"
   ]
  },
  {
   "cell_type": "code",
   "execution_count": 29,
   "id": "880dc7af",
   "metadata": {},
   "outputs": [
    {
     "data": {
      "text/plain": [
       "'PROGRAMANDO EN PYTHON'"
      ]
     },
     "execution_count": 29,
     "metadata": {},
     "output_type": "execute_result"
    }
   ],
   "source": [
    "texto.upper()"
   ]
  },
  {
   "cell_type": "code",
   "execution_count": 28,
   "id": "f4227bd6",
   "metadata": {},
   "outputs": [
    {
     "data": {
      "text/plain": [
       "'programando en python'"
      ]
     },
     "execution_count": 28,
     "metadata": {},
     "output_type": "execute_result"
    }
   ],
   "source": [
    "texto.lower()"
   ]
  },
  {
   "cell_type": "code",
   "execution_count": 30,
   "id": "639060dd",
   "metadata": {},
   "outputs": [
    {
     "data": {
      "text/plain": [
       "'Programando en python'"
      ]
     },
     "execution_count": 30,
     "metadata": {},
     "output_type": "execute_result"
    }
   ],
   "source": [
    "texto.capitalize()"
   ]
  },
  {
   "cell_type": "code",
   "execution_count": 31,
   "id": "b5b43b3b",
   "metadata": {},
   "outputs": [
    {
     "data": {
      "text/plain": [
       "'Programando En Python'"
      ]
     },
     "execution_count": 31,
     "metadata": {},
     "output_type": "execute_result"
    }
   ],
   "source": [
    "texto.title()"
   ]
  },
  {
   "cell_type": "code",
   "execution_count": 33,
   "id": "caef44d8",
   "metadata": {},
   "outputs": [
    {
     "data": {
      "text/plain": [
       "'PROGRAMANDO EN PYTHON'"
      ]
     },
     "execution_count": 33,
     "metadata": {},
     "output_type": "execute_result"
    }
   ],
   "source": [
    "texto.swapcase()"
   ]
  },
  {
   "cell_type": "markdown",
   "id": "e53f6314",
   "metadata": {},
   "source": [
    "### Cortando cadenas"
   ]
  },
  {
   "cell_type": "code",
   "execution_count": 34,
   "id": "e004fb7a",
   "metadata": {},
   "outputs": [],
   "source": [
    "nombres = \"Luis,Jose,Maria,Sofia\""
   ]
  },
  {
   "cell_type": "code",
   "execution_count": 35,
   "id": "fa3fb275",
   "metadata": {},
   "outputs": [
    {
     "data": {
      "text/plain": [
       "['Luis', 'Jose', 'Maria', 'Sofia']"
      ]
     },
     "execution_count": 35,
     "metadata": {},
     "output_type": "execute_result"
    }
   ],
   "source": [
    "nombres.split(\",\")"
   ]
  },
  {
   "cell_type": "code",
   "execution_count": 36,
   "id": "a30de652",
   "metadata": {},
   "outputs": [],
   "source": [
    "nombresSeparados = nombres.split(\",\")\n"
   ]
  },
  {
   "cell_type": "code",
   "execution_count": 37,
   "id": "7c6316a6",
   "metadata": {},
   "outputs": [
    {
     "data": {
      "text/plain": [
       "'Luis'"
      ]
     },
     "execution_count": 37,
     "metadata": {},
     "output_type": "execute_result"
    }
   ],
   "source": [
    "nombresSeparados[0]"
   ]
  },
  {
   "cell_type": "markdown",
   "id": "52d24144",
   "metadata": {},
   "source": [
    "## Booleanos"
   ]
  },
  {
   "cell_type": "code",
   "execution_count": 38,
   "id": "35a26afd",
   "metadata": {},
   "outputs": [],
   "source": [
    "T = True\n",
    "F = False"
   ]
  },
  {
   "cell_type": "code",
   "execution_count": 39,
   "id": "60baf705",
   "metadata": {},
   "outputs": [
    {
     "data": {
      "text/plain": [
       "bool"
      ]
     },
     "execution_count": 39,
     "metadata": {},
     "output_type": "execute_result"
    }
   ],
   "source": [
    "type(T)"
   ]
  },
  {
   "cell_type": "code",
   "execution_count": 40,
   "id": "6fcd6f7c",
   "metadata": {},
   "outputs": [
    {
     "data": {
      "text/plain": [
       "bool"
      ]
     },
     "execution_count": 40,
     "metadata": {},
     "output_type": "execute_result"
    }
   ],
   "source": [
    "type(F)"
   ]
  },
  {
   "cell_type": "markdown",
   "id": "550aba88",
   "metadata": {},
   "source": [
    "### Operadores lógicos\n"
   ]
  },
  {
   "cell_type": "markdown",
   "id": "e916e39b",
   "metadata": {},
   "source": [
    "#### and\n",
    "Es True si las dos variables son True"
   ]
  },
  {
   "cell_type": "code",
   "execution_count": 41,
   "id": "618d1da9",
   "metadata": {},
   "outputs": [
    {
     "data": {
      "text/plain": [
       "True"
      ]
     },
     "execution_count": 41,
     "metadata": {},
     "output_type": "execute_result"
    }
   ],
   "source": [
    "True and True"
   ]
  },
  {
   "cell_type": "code",
   "execution_count": 42,
   "id": "bc33dfe9",
   "metadata": {},
   "outputs": [
    {
     "data": {
      "text/plain": [
       "False"
      ]
     },
     "execution_count": 42,
     "metadata": {},
     "output_type": "execute_result"
    }
   ],
   "source": [
    "True and False"
   ]
  },
  {
   "cell_type": "code",
   "execution_count": 43,
   "id": "d61c1f44",
   "metadata": {},
   "outputs": [
    {
     "data": {
      "text/plain": [
       "False"
      ]
     },
     "execution_count": 43,
     "metadata": {},
     "output_type": "execute_result"
    }
   ],
   "source": [
    "False and True"
   ]
  },
  {
   "cell_type": "code",
   "execution_count": 44,
   "id": "803450e0",
   "metadata": {},
   "outputs": [
    {
     "data": {
      "text/plain": [
       "False"
      ]
     },
     "execution_count": 44,
     "metadata": {},
     "output_type": "execute_result"
    }
   ],
   "source": [
    "False and False"
   ]
  },
  {
   "cell_type": "markdown",
   "id": "5e6b1f12",
   "metadata": {},
   "source": [
    "#### or\n",
    "Es True si alguna variable es True"
   ]
  },
  {
   "cell_type": "code",
   "execution_count": 45,
   "id": "160a7456",
   "metadata": {},
   "outputs": [
    {
     "data": {
      "text/plain": [
       "True"
      ]
     },
     "execution_count": 45,
     "metadata": {},
     "output_type": "execute_result"
    }
   ],
   "source": [
    "True or True"
   ]
  },
  {
   "cell_type": "code",
   "execution_count": 46,
   "id": "c8ce3261",
   "metadata": {},
   "outputs": [
    {
     "data": {
      "text/plain": [
       "True"
      ]
     },
     "execution_count": 46,
     "metadata": {},
     "output_type": "execute_result"
    }
   ],
   "source": [
    "True or False"
   ]
  },
  {
   "cell_type": "code",
   "execution_count": 47,
   "id": "07d5f5c1",
   "metadata": {},
   "outputs": [
    {
     "data": {
      "text/plain": [
       "True"
      ]
     },
     "execution_count": 47,
     "metadata": {},
     "output_type": "execute_result"
    }
   ],
   "source": [
    "False or True"
   ]
  },
  {
   "cell_type": "code",
   "execution_count": 48,
   "id": "211ec2ef",
   "metadata": {},
   "outputs": [
    {
     "data": {
      "text/plain": [
       "False"
      ]
     },
     "execution_count": 48,
     "metadata": {},
     "output_type": "execute_result"
    }
   ],
   "source": [
    "False or False"
   ]
  },
  {
   "cell_type": "markdown",
   "id": "20f36ad8",
   "metadata": {},
   "source": [
    "#### not\n",
    "Devuelve el valor contrario del booleano"
   ]
  },
  {
   "cell_type": "code",
   "execution_count": 49,
   "id": "27d7ee84",
   "metadata": {},
   "outputs": [
    {
     "data": {
      "text/plain": [
       "False"
      ]
     },
     "execution_count": 49,
     "metadata": {},
     "output_type": "execute_result"
    }
   ],
   "source": [
    "not True"
   ]
  },
  {
   "cell_type": "code",
   "execution_count": 50,
   "id": "0c20bb79",
   "metadata": {},
   "outputs": [
    {
     "data": {
      "text/plain": [
       "True"
      ]
     },
     "execution_count": 50,
     "metadata": {},
     "output_type": "execute_result"
    }
   ],
   "source": [
    "not False"
   ]
  },
  {
   "cell_type": "markdown",
   "id": "0ecc6e0e",
   "metadata": {},
   "source": [
    "## Listas\n",
    "Las listas en Python son un tipo contenedor, compuesto, que se usan para almacenar conjuntos de elementos relacionados del mismo tipo o de tipos distintos. Junto a las clases tuple, range y str, son uno de los tipos de secuencia en Python, con la particularidad de que son mutables.\n",
    "\n",
    "\n",
    "Una lista es una estructura de datos y un tipo de dato en python con características especiales. Lo especial de las listas en Python es que nos permiten almacenar cualquier tipo de valor como enteros, cadenas y hasta otras funciones; por ejemplo:"
   ]
  },
  {
   "cell_type": "code",
   "execution_count": 51,
   "id": "e5e33abc",
   "metadata": {},
   "outputs": [],
   "source": [
    "lista = [1, 2.5, 'IER_UNAM', [5,6] ,4]"
   ]
  },
  {
   "cell_type": "code",
   "execution_count": 52,
   "id": "094de598",
   "metadata": {},
   "outputs": [
    {
     "data": {
      "text/plain": [
       "list"
      ]
     },
     "execution_count": 52,
     "metadata": {},
     "output_type": "execute_result"
    }
   ],
   "source": [
    "type(lista)"
   ]
  },
  {
   "cell_type": "code",
   "execution_count": 53,
   "id": "9993be5b",
   "metadata": {},
   "outputs": [],
   "source": [
    "numeros = [1, 2, 3, 4, 5, 6, 7, 8, 9, 10]"
   ]
  },
  {
   "cell_type": "code",
   "execution_count": 54,
   "id": "4d757cdd",
   "metadata": {},
   "outputs": [],
   "source": [
    "elementos = [3, 'a', 8, 7.2, 'hola']"
   ]
  },
  {
   "cell_type": "code",
   "execution_count": 55,
   "id": "d51bf125",
   "metadata": {},
   "outputs": [
    {
     "name": "stdout",
     "output_type": "stream",
     "text": [
      "b\n"
     ]
    }
   ],
   "source": [
    "# Ingresando a los elementos de una lista\n",
    "letras=['a', 'b', 'd', 'i', 'j']\n",
    "print(letras[1])\n"
   ]
  },
  {
   "cell_type": "code",
   "execution_count": 56,
   "id": "40f1e6eb",
   "metadata": {},
   "outputs": [
    {
     "name": "stdout",
     "output_type": "stream",
     "text": [
      "['a', 'e']\n",
      "['a', 'e', 'i', 'o', 'u']\n"
     ]
    }
   ],
   "source": [
    "# Añadir elementos a una lista en Python\n",
    "vocales = ['a']\n",
    "vocales.append('e')\n",
    "print (vocales)\n",
    "\n",
    "vocales.extend(['i', 'o', 'u'])\n",
    "print (vocales)"
   ]
  },
  {
   "cell_type": "code",
   "execution_count": 57,
   "id": "98161476",
   "metadata": {},
   "outputs": [
    {
     "data": {
      "text/plain": [
       "[1, 2, 3, 4, 5, 6]"
      ]
     },
     "execution_count": 57,
     "metadata": {},
     "output_type": "execute_result"
    }
   ],
   "source": [
    "lista_1 = [1, 2, 3]\n",
    "lista_2 = [4, 5, 6]\n",
    "nueva_lista = lista_1 + lista_2\n",
    "nueva_lista"
   ]
  },
  {
   "cell_type": "code",
   "execution_count": 58,
   "id": "8445dcc5",
   "metadata": {},
   "outputs": [
    {
     "data": {
      "text/plain": [
       "['a', 'e', 'i', 'u']"
      ]
     },
     "execution_count": 58,
     "metadata": {},
     "output_type": "execute_result"
    }
   ],
   "source": [
    "vocales = ['a', 'e', 'u']\n",
    "vocales.insert(2, 'i')\n",
    "vocales"
   ]
  },
  {
   "cell_type": "code",
   "execution_count": 59,
   "id": "5c8341b9",
   "metadata": {},
   "outputs": [
    {
     "data": {
      "text/plain": [
       "'o'"
      ]
     },
     "execution_count": 59,
     "metadata": {},
     "output_type": "execute_result"
    }
   ],
   "source": [
    "mensaje=\"hola mundo\"\n",
    "mensaje[1]"
   ]
  },
  {
   "cell_type": "code",
   "execution_count": 60,
   "id": "45b6c0a9",
   "metadata": {},
   "outputs": [
    {
     "name": "stdout",
     "output_type": "stream",
     "text": [
      "['a', 'o', 'o', 'o', 'u']\n"
     ]
    }
   ],
   "source": [
    "# Modificar elementos de una lista\n",
    "vocales = ['o', 'o', 'o', 'o', 'u']\n",
    "vocales[0] = 'a'\n",
    "\n",
    "print (vocales)"
   ]
  },
  {
   "cell_type": "code",
   "execution_count": 62,
   "id": "b5b95f36",
   "metadata": {},
   "outputs": [
    {
     "data": {
      "text/plain": [
       "['a', 'b', 'a', 'v']"
      ]
     },
     "execution_count": 62,
     "metadata": {},
     "output_type": "execute_result"
    }
   ],
   "source": [
    "# Eliminar elementos de una lista\n",
    "letras = ['a', 'b', 'k', 'a', 'v']\n",
    "\n",
    "letras.pop(2)\n",
    "\n",
    "letras"
   ]
  },
  {
   "cell_type": "code",
   "execution_count": 63,
   "id": "61f6b5f8",
   "metadata": {},
   "outputs": [],
   "source": [
    "# Borrando una lista\n",
    "letras.clear()"
   ]
  },
  {
   "cell_type": "code",
   "execution_count": 64,
   "id": "8b11807f",
   "metadata": {},
   "outputs": [
    {
     "data": {
      "text/plain": [
       "5"
      ]
     },
     "execution_count": 64,
     "metadata": {},
     "output_type": "execute_result"
    }
   ],
   "source": [
    "# Obteniendo la longitud de una lista\n",
    "vocales = ['a', 'e', 'i', 'o', 'u']\n",
    "len(vocales)"
   ]
  },
  {
   "cell_type": "code",
   "execution_count": 65,
   "id": "32a9c935",
   "metadata": {},
   "outputs": [
    {
     "name": "stdout",
     "output_type": "stream",
     "text": [
      "Sí\n"
     ]
    }
   ],
   "source": [
    "# Saber si un elemento se encuentra dentro de la lista\n",
    "vocales = ['a', 'e', 'i', 'o', 'u']\n",
    "if 'a' in vocales:\n",
    "    print('Sí')"
   ]
  },
  {
   "cell_type": "code",
   "execution_count": 66,
   "id": "d42dfc02",
   "metadata": {},
   "outputs": [
    {
     "name": "stdout",
     "output_type": "stream",
     "text": [
      "No\n"
     ]
    }
   ],
   "source": [
    "if 'b' not in vocales:\n",
    "    print('No')"
   ]
  },
  {
   "cell_type": "code",
   "execution_count": 67,
   "id": "1532d913",
   "metadata": {},
   "outputs": [
    {
     "data": {
      "text/plain": [
       "[1, 3, 4, 8, 9, 16, 20]"
      ]
     },
     "execution_count": 67,
     "metadata": {},
     "output_type": "execute_result"
    }
   ],
   "source": [
    "# Ordenar listas\n",
    "numeros = [16, 4, 9, 1, 3, 20, 8]\n",
    "numeros.sort() #ordenando los elementos de manera ascendente\n",
    "numeros"
   ]
  },
  {
   "cell_type": "code",
   "execution_count": 68,
   "id": "b25c4557",
   "metadata": {},
   "outputs": [
    {
     "data": {
      "text/plain": [
       "['avión', 'coche', 'gato', 'hola', 'manzana', 'perro']"
      ]
     },
     "execution_count": 68,
     "metadata": {},
     "output_type": "execute_result"
    }
   ],
   "source": [
    "palabras = [\"hola\", \"coche\", \"avión\", \"manzana\", \"perro\", \"gato\"]\n",
    "palabras.sort()\n",
    "palabras"
   ]
  },
  {
   "cell_type": "code",
   "execution_count": 69,
   "id": "3f711a56",
   "metadata": {},
   "outputs": [
    {
     "ename": "TypeError",
     "evalue": "'<' not supported between instances of 'str' and 'int'",
     "output_type": "error",
     "traceback": [
      "\u001b[1;31m---------------------------------------------------------------------------\u001b[0m",
      "\u001b[1;31mTypeError\u001b[0m                                 Traceback (most recent call last)",
      "\u001b[1;32m<ipython-input-69-1c9a121908ae>\u001b[0m in \u001b[0;36m<module>\u001b[1;34m\u001b[0m\n\u001b[0;32m      1\u001b[0m \u001b[0mlista\u001b[0m \u001b[1;33m=\u001b[0m \u001b[1;33m[\u001b[0m\u001b[1;36m1\u001b[0m\u001b[1;33m,\u001b[0m \u001b[1;34m\"a\"\u001b[0m\u001b[1;33m,\u001b[0m \u001b[1;36m5\u001b[0m\u001b[1;33m,\u001b[0m \u001b[1;34m\"g\"\u001b[0m\u001b[1;33m,\u001b[0m \u001b[1;36m3\u001b[0m\u001b[1;33m,\u001b[0m \u001b[1;34m\"c\"\u001b[0m\u001b[1;33m]\u001b[0m\u001b[1;33m\u001b[0m\u001b[1;33m\u001b[0m\u001b[0m\n\u001b[1;32m----> 2\u001b[1;33m \u001b[0mlista\u001b[0m\u001b[1;33m.\u001b[0m\u001b[0msort\u001b[0m\u001b[1;33m(\u001b[0m\u001b[1;33m)\u001b[0m\u001b[1;33m\u001b[0m\u001b[1;33m\u001b[0m\u001b[0m\n\u001b[0m",
      "\u001b[1;31mTypeError\u001b[0m: '<' not supported between instances of 'str' and 'int'"
     ]
    }
   ],
   "source": [
    "lista = [1, \"a\", 5, \"g\", 3, \"c\"]\n",
    "lista.sort()"
   ]
  },
  {
   "cell_type": "code",
   "execution_count": 70,
   "id": "c7cfe4d2",
   "metadata": {},
   "outputs": [
    {
     "name": "stdout",
     "output_type": "stream",
     "text": [
      "[16, 4, 9, 1, 3, 20, 8]\n",
      "[1, 3, 4, 8, 9, 16, 20]\n"
     ]
    }
   ],
   "source": [
    "numeros = [16, 4, 9, 1, 3, 20, 8]\n",
    "ordenados= sorted(numeros)\n",
    "print (numeros)\n",
    "print (ordenados)"
   ]
  },
  {
   "cell_type": "code",
   "execution_count": 71,
   "id": "1c448ed1",
   "metadata": {},
   "outputs": [
    {
     "name": "stdout",
     "output_type": "stream",
     "text": [
      "[16, 4, 9, 1, 3, 20, 8]\n",
      "[20, 16, 9, 8, 4, 3, 1]\n"
     ]
    }
   ],
   "source": [
    "numeros = [16, 4, 9, 1, 3, 20, 8]\n",
    "numeros.sort(reverse=True)\n",
    "#print(numeros)\n",
    "\n",
    "numeros = [16, 4, 9, 1, 3, 20, 8]\n",
    "ordenados=sorted(numeros,reverse=True)\n",
    "print(numeros)\n",
    "print(ordenados)"
   ]
  },
  {
   "cell_type": "code",
   "execution_count": 72,
   "id": "f44e769e",
   "metadata": {},
   "outputs": [
    {
     "data": {
      "text/plain": [
       "2"
      ]
     },
     "execution_count": 72,
     "metadata": {},
     "output_type": "execute_result"
    }
   ],
   "source": [
    "## contando elementos en una lista \n",
    "lista_palabras=[\"Hola\", \"mundo\", \"mundo\"]\n",
    "\n",
    "#print(lista_palabras.count(\"mundo\"))\n",
    "\n",
    "\n",
    "[\"Hola\", \"Hola\", \"mundo\"].count(\"Hola\")"
   ]
  },
  {
   "cell_type": "markdown",
   "id": "bb53213c",
   "metadata": {},
   "source": [
    "## Tuplas\n",
    "Las tuplas son un tipo de listas inmutables, no pueden modificarse de ningún modo después de su creación.\n",
    "\n",
    "Por ejemplo, creemos una lista llamada frutas:"
   ]
  },
  {
   "cell_type": "code",
   "execution_count": 73,
   "id": "65440ea3",
   "metadata": {},
   "outputs": [],
   "source": [
    "frutas = [\"pera\", \"manzana\", \"melon\"]"
   ]
  },
  {
   "cell_type": "code",
   "execution_count": 74,
   "id": "1834e625",
   "metadata": {},
   "outputs": [
    {
     "data": {
      "text/plain": [
       "['pera', 'manzana', 'melon', 'ciruela']"
      ]
     },
     "execution_count": 74,
     "metadata": {},
     "output_type": "execute_result"
    }
   ],
   "source": [
    "#Podemos agregar un elemento como:\n",
    "frutas.append(\"ciruela\")\n",
    "frutas"
   ]
  },
  {
   "cell_type": "code",
   "execution_count": 75,
   "id": "fa9a7478",
   "metadata": {},
   "outputs": [
    {
     "data": {
      "text/plain": [
       "['pera', 'guayaba', 'melon', 'ciruela']"
      ]
     },
     "execution_count": 75,
     "metadata": {},
     "output_type": "execute_result"
    }
   ],
   "source": [
    "#O sustituir uno como\n",
    "frutas[1] = \"guayaba\"\n",
    "frutas"
   ]
  },
  {
   "cell_type": "code",
   "execution_count": 76,
   "id": "ab6a824d",
   "metadata": {},
   "outputs": [
    {
     "data": {
      "text/plain": [
       "['guayaba', 'melon', 'ciruela']"
      ]
     },
     "execution_count": 76,
     "metadata": {},
     "output_type": "execute_result"
    }
   ],
   "source": [
    "#e incluso eliminar un elemento como\n",
    "frutas.remove(\"pera\")\n",
    "frutas"
   ]
  },
  {
   "cell_type": "code",
   "execution_count": 77,
   "id": "55b1be29",
   "metadata": {},
   "outputs": [],
   "source": [
    "#Creemos ahora una tupla llamada verduras, notemos que la nomenclatura es diferente,\n",
    "#pues para la listas usamos corchetes y para las tuplas paréntesis\n",
    "verduras = (\"zanahoria\", \"cebolla\", \"apio\")"
   ]
  },
  {
   "cell_type": "code",
   "execution_count": 78,
   "id": "b03079b4",
   "metadata": {},
   "outputs": [
    {
     "data": {
      "text/plain": [
       "tuple"
      ]
     },
     "execution_count": 78,
     "metadata": {},
     "output_type": "execute_result"
    }
   ],
   "source": [
    "#podemos ver su tipo como:\n",
    "type(verduras)"
   ]
  },
  {
   "cell_type": "code",
   "execution_count": 79,
   "id": "27402bc6",
   "metadata": {},
   "outputs": [
    {
     "ename": "AttributeError",
     "evalue": "'tuple' object has no attribute 'append'",
     "output_type": "error",
     "traceback": [
      "\u001b[1;31m---------------------------------------------------------------------------\u001b[0m",
      "\u001b[1;31mAttributeError\u001b[0m                            Traceback (most recent call last)",
      "\u001b[1;32m<ipython-input-79-80ffff609411>\u001b[0m in \u001b[0;36m<module>\u001b[1;34m\u001b[0m\n\u001b[0;32m      1\u001b[0m \u001b[1;31m#Intentemos ahora las mismas operaciones que realizamos anteriormente con la lista\u001b[0m\u001b[1;33m\u001b[0m\u001b[1;33m\u001b[0m\u001b[1;33m\u001b[0m\u001b[0m\n\u001b[1;32m----> 2\u001b[1;33m \u001b[0mverduras\u001b[0m\u001b[1;33m.\u001b[0m\u001b[0mappend\u001b[0m\u001b[1;33m(\u001b[0m\u001b[1;34m\"tomate\"\u001b[0m\u001b[1;33m)\u001b[0m\u001b[1;33m\u001b[0m\u001b[1;33m\u001b[0m\u001b[0m\n\u001b[0m",
      "\u001b[1;31mAttributeError\u001b[0m: 'tuple' object has no attribute 'append'"
     ]
    }
   ],
   "source": [
    "#Intentemos ahora las mismas operaciones que realizamos anteriormente con la lista\n",
    "verduras.append(\"tomate\")"
   ]
  },
  {
   "cell_type": "code",
   "execution_count": 80,
   "id": "9d33a67a",
   "metadata": {},
   "outputs": [
    {
     "ename": "TypeError",
     "evalue": "'tuple' object does not support item assignment",
     "output_type": "error",
     "traceback": [
      "\u001b[1;31m---------------------------------------------------------------------------\u001b[0m",
      "\u001b[1;31mTypeError\u001b[0m                                 Traceback (most recent call last)",
      "\u001b[1;32m<ipython-input-80-cb477e31aa92>\u001b[0m in \u001b[0;36m<module>\u001b[1;34m\u001b[0m\n\u001b[1;32m----> 1\u001b[1;33m \u001b[0mverduras\u001b[0m\u001b[1;33m[\u001b[0m\u001b[1;36m1\u001b[0m\u001b[1;33m]\u001b[0m \u001b[1;33m=\u001b[0m \u001b[1;34m\"tomate\"\u001b[0m\u001b[1;33m\u001b[0m\u001b[1;33m\u001b[0m\u001b[0m\n\u001b[0m",
      "\u001b[1;31mTypeError\u001b[0m: 'tuple' object does not support item assignment"
     ]
    }
   ],
   "source": [
    "verduras[1] = \"tomate\""
   ]
  },
  {
   "cell_type": "code",
   "execution_count": 81,
   "id": "86d38f12",
   "metadata": {},
   "outputs": [
    {
     "ename": "AttributeError",
     "evalue": "'tuple' object has no attribute 'remove'",
     "output_type": "error",
     "traceback": [
      "\u001b[1;31m---------------------------------------------------------------------------\u001b[0m",
      "\u001b[1;31mAttributeError\u001b[0m                            Traceback (most recent call last)",
      "\u001b[1;32m<ipython-input-81-26558ec167cf>\u001b[0m in \u001b[0;36m<module>\u001b[1;34m\u001b[0m\n\u001b[1;32m----> 1\u001b[1;33m \u001b[0mverduras\u001b[0m\u001b[1;33m.\u001b[0m\u001b[0mremove\u001b[0m\u001b[1;33m(\u001b[0m\u001b[1;34m\"tomate\"\u001b[0m\u001b[1;33m)\u001b[0m\u001b[1;33m\u001b[0m\u001b[1;33m\u001b[0m\u001b[0m\n\u001b[0m",
      "\u001b[1;31mAttributeError\u001b[0m: 'tuple' object has no attribute 'remove'"
     ]
    }
   ],
   "source": [
    "verduras.remove(\"tomate\")"
   ]
  },
  {
   "cell_type": "code",
   "execution_count": 82,
   "id": "7fc96e4c",
   "metadata": {},
   "outputs": [
    {
     "ename": "TypeError",
     "evalue": "'tuple' object doesn't support item deletion",
     "output_type": "error",
     "traceback": [
      "\u001b[1;31m---------------------------------------------------------------------------\u001b[0m",
      "\u001b[1;31mTypeError\u001b[0m                                 Traceback (most recent call last)",
      "\u001b[1;32m<ipython-input-82-07f31a95db25>\u001b[0m in \u001b[0;36m<module>\u001b[1;34m\u001b[0m\n\u001b[1;32m----> 1\u001b[1;33m \u001b[1;32mdel\u001b[0m\u001b[1;33m(\u001b[0m\u001b[0mverduras\u001b[0m\u001b[1;33m[\u001b[0m\u001b[1;36m1\u001b[0m\u001b[1;33m]\u001b[0m\u001b[1;33m)\u001b[0m\u001b[1;33m\u001b[0m\u001b[1;33m\u001b[0m\u001b[0m\n\u001b[0m",
      "\u001b[1;31mTypeError\u001b[0m: 'tuple' object doesn't support item deletion"
     ]
    }
   ],
   "source": [
    "del(verduras[1])"
   ]
  },
  {
   "cell_type": "code",
   "execution_count": 83,
   "id": "45267dbc",
   "metadata": {},
   "outputs": [
    {
     "data": {
      "text/plain": [
       "tuple"
      ]
     },
     "execution_count": 83,
     "metadata": {},
     "output_type": "execute_result"
    }
   ],
   "source": [
    "#Esta es propiamente la definición de tupla, una lista inmutable, pues como vemos, \n",
    "#No podemos realizar cambios una vez que la hemos creado, podrían ser de utilidad cuando \n",
    "#tenemos una lista en la que sabemos que nunca se deben realizar operaciones en ella.\n",
    "#Para crear una tupla, podemos hacerlo como lo hicimos anteriormente, o también podemos \n",
    "#crearla a partir de una lista\n",
    "mis_frutas = tuple(frutas)\n",
    "type(mis_frutas)"
   ]
  },
  {
   "cell_type": "code",
   "execution_count": 84,
   "id": "5ccf83b9",
   "metadata": {},
   "outputs": [
    {
     "data": {
      "text/plain": [
       "('guayaba', 'melon', 'ciruela')"
      ]
     },
     "execution_count": 84,
     "metadata": {},
     "output_type": "execute_result"
    }
   ],
   "source": [
    "mis_frutas"
   ]
  },
  {
   "cell_type": "markdown",
   "id": "8f341a13",
   "metadata": {},
   "source": [
    "## Diccionarios\n",
    "Un Diccionario es una estructura de datos y un tipo de dato en Python con características especiales que nos permite almacenar cualquier tipo de valor como enteros, cadenas, listas e incluso otras funciones. Estos diccionarios nos permiten además identificar cada elemento por una clave (Key)."
   ]
  },
  {
   "cell_type": "code",
   "execution_count": 85,
   "id": "15692dd9",
   "metadata": {},
   "outputs": [],
   "source": [
    "diccionario = {\n",
    "\"clave1\":234,\n",
    "\"clave2\":True,\n",
    "\"clave3\":\"Valor 1\",\n",
    "\"clave4\":[1,2,3,4]\n",
    "}"
   ]
  },
  {
   "cell_type": "code",
   "execution_count": 86,
   "id": "be879958",
   "metadata": {},
   "outputs": [
    {
     "data": {
      "text/plain": [
       "[1, 2, 3, 4]"
      ]
     },
     "execution_count": 86,
     "metadata": {},
     "output_type": "execute_result"
    }
   ],
   "source": [
    "diccionario['clave4']"
   ]
  },
  {
   "cell_type": "code",
   "execution_count": 87,
   "id": "43892745",
   "metadata": {},
   "outputs": [
    {
     "data": {
      "text/plain": [
       "bool"
      ]
     },
     "execution_count": 87,
     "metadata": {},
     "output_type": "execute_result"
    }
   ],
   "source": [
    "type(diccionario['clave2'])"
   ]
  },
  {
   "cell_type": "code",
   "execution_count": 88,
   "id": "ace6a543",
   "metadata": {},
   "outputs": [],
   "source": [
    "# Agregando elementos al diccionario\n",
    "diccionario[\"clave5\"]=4.5"
   ]
  },
  {
   "cell_type": "code",
   "execution_count": 89,
   "id": "771a608e",
   "metadata": {},
   "outputs": [
    {
     "data": {
      "text/plain": [
       "{'clave1': 234,\n",
       " 'clave2': True,\n",
       " 'clave3': 'Valor 1',\n",
       " 'clave4': [1, 2, 3, 4],\n",
       " 'clave5': 4.5}"
      ]
     },
     "execution_count": 89,
     "metadata": {},
     "output_type": "execute_result"
    }
   ],
   "source": [
    "diccionario"
   ]
  },
  {
   "cell_type": "code",
   "execution_count": 90,
   "id": "c7e13bf4",
   "metadata": {},
   "outputs": [
    {
     "data": {
      "text/plain": [
       "{'clave1': 234,\n",
       " 'clave2': True,\n",
       " 'clave3': 'Valor 1',\n",
       " 'clave4': [1, 2, 3, 4],\n",
       " 'clave5': 6.0}"
      ]
     },
     "execution_count": 90,
     "metadata": {},
     "output_type": "execute_result"
    }
   ],
   "source": [
    "# Modificando un valor al diccionario\n",
    "diccionario[\"clave5\"]=6.0\n",
    "diccionario"
   ]
  },
  {
   "cell_type": "code",
   "execution_count": 91,
   "id": "794c82c3",
   "metadata": {},
   "outputs": [
    {
     "data": {
      "text/plain": [
       "1"
      ]
     },
     "execution_count": 91,
     "metadata": {},
     "output_type": "execute_result"
    }
   ],
   "source": [
    "#Eliminado elemento de diccionario\n",
    "dic = {'uno': 1, 'dos': 2, 'tres': 3, 'cuatro': 4, 'cinco': 5}\n",
    "dic.pop('uno')"
   ]
  },
  {
   "cell_type": "code",
   "execution_count": 92,
   "id": "81bda046",
   "metadata": {},
   "outputs": [],
   "source": [
    "del dic['tres']"
   ]
  },
  {
   "cell_type": "code",
   "execution_count": 93,
   "id": "49310dbb",
   "metadata": {},
   "outputs": [
    {
     "data": {
      "text/plain": [
       "{'dos': 2, 'cuatro': 4, 'cinco': 5}"
      ]
     },
     "execution_count": 93,
     "metadata": {},
     "output_type": "execute_result"
    }
   ],
   "source": [
    "dic"
   ]
  },
  {
   "cell_type": "code",
   "execution_count": 94,
   "id": "108a9d02",
   "metadata": {},
   "outputs": [
    {
     "name": "stdout",
     "output_type": "stream",
     "text": [
      "dict_items([('key1', 'value'), ('key2', 2), ('key3', False)])\n"
     ]
    }
   ],
   "source": [
    "# Obteniendo elementos del diccionario\n",
    "dictionary={\"key1\":\"value\",\"key2\":2, \"key3\":False}\n",
    "print(dictionary.items()) #impriendo llaves y valores"
   ]
  },
  {
   "cell_type": "code",
   "execution_count": 95,
   "id": "348dfef4",
   "metadata": {},
   "outputs": [
    {
     "data": {
      "text/plain": [
       "dict_keys(['key1', 'key2', 'key3'])"
      ]
     },
     "execution_count": 95,
     "metadata": {},
     "output_type": "execute_result"
    }
   ],
   "source": [
    "#Obteniendo las llaves del diccionario\n",
    "dictionary.keys()"
   ]
  },
  {
   "cell_type": "code",
   "execution_count": 97,
   "id": "2bf1086b",
   "metadata": {},
   "outputs": [
    {
     "data": {
      "text/plain": [
       "dict_values(['value', 2, False])"
      ]
     },
     "execution_count": 97,
     "metadata": {},
     "output_type": "execute_result"
    }
   ],
   "source": [
    "#Obteniendo los valores del diccionario\n",
    "dictionary.values() # imprime valores"
   ]
  },
  {
   "cell_type": "markdown",
   "id": "f464310d",
   "metadata": {},
   "source": [
    "## Imprimir \n",
    "Recordemos que la función print() nos devuelve la impresión a pantalla de una cadena o strings, así como la concatenación de ellas, por ejemplo:"
   ]
  },
  {
   "cell_type": "code",
   "execution_count": 98,
   "id": "ec2ece29",
   "metadata": {},
   "outputs": [
    {
     "name": "stdout",
     "output_type": "stream",
     "text": [
      "holamundo\n"
     ]
    }
   ],
   "source": [
    "print(\"hola\" + \"mundo\")"
   ]
  },
  {
   "cell_type": "code",
   "execution_count": 99,
   "id": "d1735573",
   "metadata": {},
   "outputs": [
    {
     "name": "stdout",
     "output_type": "stream",
     "text": [
      "holamundofeliz\n"
     ]
    }
   ],
   "source": [
    "# Podemos concatenar variables siempre y cuando también sean strings:\n",
    "\n",
    "palabra = \"feliz\"\n",
    "\n",
    "print(\"hola\"  + \"mundo\" + palabra)"
   ]
  },
  {
   "cell_type": "code",
   "execution_count": 100,
   "id": "080d39ab",
   "metadata": {},
   "outputs": [
    {
     "ename": "TypeError",
     "evalue": "can only concatenate str (not \"int\") to str",
     "output_type": "error",
     "traceback": [
      "\u001b[1;31m---------------------------------------------------------------------------\u001b[0m",
      "\u001b[1;31mTypeError\u001b[0m                                 Traceback (most recent call last)",
      "\u001b[1;32m<ipython-input-100-41d81efeac99>\u001b[0m in \u001b[0;36m<module>\u001b[1;34m\u001b[0m\n\u001b[0;32m      1\u001b[0m \u001b[0mnumero\u001b[0m \u001b[1;33m=\u001b[0m \u001b[1;36m10\u001b[0m\u001b[1;33m\u001b[0m\u001b[1;33m\u001b[0m\u001b[0m\n\u001b[1;32m----> 2\u001b[1;33m \u001b[0mprint\u001b[0m\u001b[1;33m(\u001b[0m\u001b[1;34m\"hola\"\u001b[0m\u001b[1;33m+\u001b[0m\u001b[1;34m\"mundo\"\u001b[0m\u001b[1;33m+\u001b[0m\u001b[0mnumero\u001b[0m\u001b[1;33m)\u001b[0m\u001b[1;33m\u001b[0m\u001b[1;33m\u001b[0m\u001b[0m\n\u001b[0m",
      "\u001b[1;31mTypeError\u001b[0m: can only concatenate str (not \"int\") to str"
     ]
    }
   ],
   "source": [
    "numero = 10\n",
    "print(\"hola\"+\"mundo\"+numero)"
   ]
  },
  {
   "cell_type": "code",
   "execution_count": 101,
   "id": "ebbee31f",
   "metadata": {},
   "outputs": [
    {
     "name": "stdout",
     "output_type": "stream",
     "text": [
      "holamundo 10\n"
     ]
    }
   ],
   "source": [
    "#Podríamos obtenerlo de la siguiente forma:\n",
    "print(\"hola\"+\"mundo\", numero)"
   ]
  },
  {
   "cell_type": "markdown",
   "id": "52564f0f",
   "metadata": {},
   "source": [
    "Sin embargo existen mejores formas de hacer la impresión de variables. La primera forma es al estilo de la vieja escuela en C, y es con el operador %, veamos algunos ejemplos:"
   ]
  },
  {
   "cell_type": "code",
   "execution_count": 102,
   "id": "4a2485ed",
   "metadata": {},
   "outputs": [
    {
     "name": "stdout",
     "output_type": "stream",
     "text": [
      "Hola, Diego!\n"
     ]
    }
   ],
   "source": [
    "# Esto imprime \"Hola, Diego!\"\n",
    "nombre = \"Diego\"\n",
    "print(\"Hola, %s!\" % nombre)\n"
   ]
  },
  {
   "cell_type": "markdown",
   "id": "b9f990c1",
   "metadata": {},
   "source": [
    "%s - Cadena (O cualquier objeto, como los números al representarlos en una cadena de texto)\n",
    "\n",
    "%d - Enteros\n",
    "\n",
    "%f - Números de punto flotante\n",
    "\n",
    "%.f - Números de punto flotante con una cantidad de números fijos a la derecha del punto."
   ]
  },
  {
   "cell_type": "code",
   "execution_count": 103,
   "id": "83f85549",
   "metadata": {},
   "outputs": [
    {
     "name": "stdout",
     "output_type": "stream",
     "text": [
      "John tiene 27 años.\n"
     ]
    }
   ],
   "source": [
    "# Esto imprime \"John is 23 years old.\"\n",
    "nombre = \"John\"\n",
    "edad = 27\n",
    "print(\"%s tiene %d años.\" % (nombre, edad))"
   ]
  },
  {
   "cell_type": "code",
   "execution_count": 104,
   "id": "f7d1787a",
   "metadata": {},
   "outputs": [
    {
     "name": "stdout",
     "output_type": "stream",
     "text": [
      "Una lista: [1, 2, 3]\n"
     ]
    }
   ],
   "source": [
    "# Esto muestra lo siguiente: Una Lista: [1, 2, 3]\n",
    "lista = [1,2,3]\n",
    "print(\"Una lista: %s\" % lista)"
   ]
  },
  {
   "cell_type": "code",
   "execution_count": 105,
   "id": "50921557",
   "metadata": {},
   "outputs": [
    {
     "name": "stdout",
     "output_type": "stream",
     "text": [
      "decimal 4.57\n"
     ]
    }
   ],
   "source": [
    "decimal=4.565770\n",
    "print(\"decimal %.2f\" % decimal)"
   ]
  },
  {
   "cell_type": "markdown",
   "id": "fe0d596d",
   "metadata": {},
   "source": [
    "A partir de python 3, se recomienda el uso del siguiente método que es con .format() en lugar de la forma anterior. Para usar el método format podemos hacer lo siguiente:"
   ]
  },
  {
   "cell_type": "code",
   "execution_count": 107,
   "id": "000c77be",
   "metadata": {},
   "outputs": [
    {
     "name": "stdout",
     "output_type": "stream",
     "text": [
      "luis parece estar en la Luna desde 10/10/2010\n"
     ]
    }
   ],
   "source": [
    "mi_nombre = \"luis\"\n",
    "mi_fecha = \"10/10/2010\"\n",
    "mi_lugar = \"la Luna\"\n",
    " \n",
    "texto = \"{nombre} parece estar en {lugar} desde {fecha}\"\n",
    " \n",
    "print(texto.format(nombre=mi_nombre, lugar=mi_lugar, fecha=mi_fecha))"
   ]
  },
  {
   "cell_type": "code",
   "execution_count": 109,
   "id": "d74fc82b",
   "metadata": {},
   "outputs": [
    {
     "name": "stdout",
     "output_type": "stream",
     "text": [
      "luis parece estar en la Luna desde 10/10/2010\n"
     ]
    }
   ],
   "source": [
    "# Una forma alternativa es\n",
    "print(\"{nombre} parece estar en {lugar} desde {fecha}\".format(nombre=mi_nombre, lugar=mi_lugar, fecha=mi_fecha))"
   ]
  },
  {
   "cell_type": "markdown",
   "id": "5065b32f",
   "metadata": {},
   "source": [
    "Este método permite una formas mas intuitiva de imprimir con formato, también podemos escribir las variables en el orden de impresión, pero hay que tener cuidado"
   ]
  },
  {
   "cell_type": "code",
   "execution_count": 110,
   "id": "c7e1c4f9",
   "metadata": {},
   "outputs": [
    {
     "name": "stdout",
     "output_type": "stream",
     "text": [
      "luis parece estar en la Luna desde 10/10/2010\n"
     ]
    }
   ],
   "source": [
    "print(\"{} parece estar en {} desde {}\".format(mi_nombre, mi_lugar, mi_fecha))"
   ]
  },
  {
   "cell_type": "code",
   "execution_count": 111,
   "id": "aa464375",
   "metadata": {},
   "outputs": [
    {
     "name": "stdout",
     "output_type": "stream",
     "text": [
      "la Luna parece estar en 10/10/2010 desde luis\n"
     ]
    }
   ],
   "source": [
    "print(\"{} parece estar en {} desde {}\".format(mi_lugar, mi_fecha, mi_nombre))"
   ]
  },
  {
   "cell_type": "code",
   "execution_count": 112,
   "id": "6f3afe00",
   "metadata": {},
   "outputs": [
    {
     "name": "stdout",
     "output_type": "stream",
     "text": [
      "10/10/2010 parece estar en luis desde la Luna\n"
     ]
    }
   ],
   "source": [
    "#También podemos especificar la posición de las variables:\n",
    "print(\"{2} parece estar en {0} desde {1}\".format(mi_nombre, mi_lugar, mi_fecha))"
   ]
  },
  {
   "cell_type": "markdown",
   "id": "67c85fab",
   "metadata": {},
   "source": [
    "En el caso de valores numéricos, podemos especificar el número de enteros y flotantes:"
   ]
  },
  {
   "cell_type": "code",
   "execution_count": 113,
   "id": "baa2841c",
   "metadata": {},
   "outputs": [
    {
     "name": "stdout",
     "output_type": "stream",
     "text": [
      "El valor de pi es:3.14\n"
     ]
    }
   ],
   "source": [
    "valor = 3.14159264\n",
    " \n",
    "print(\"El valor de pi es:{:.2f}\".format(valor))"
   ]
  },
  {
   "cell_type": "code",
   "execution_count": 114,
   "id": "74a50ed2",
   "metadata": {},
   "outputs": [
    {
     "name": "stdout",
     "output_type": "stream",
     "text": [
      "El valor de pi es:3.141593e+00\n"
     ]
    }
   ],
   "source": [
    "print(\"El valor de pi es:{:e}\".format(valor))"
   ]
  },
  {
   "cell_type": "code",
   "execution_count": 115,
   "id": "4b373756",
   "metadata": {},
   "outputs": [
    {
     "name": "stdout",
     "output_type": "stream",
     "text": [
      "El valor de pi es:6.28318528\n"
     ]
    }
   ],
   "source": [
    "#También podemos realizar operaciones entre las variables:\n",
    "print(\"El valor de pi es:{}\".format(valor*2))"
   ]
  },
  {
   "cell_type": "code",
   "execution_count": 116,
   "id": "fa92115e",
   "metadata": {},
   "outputs": [
    {
     "name": "stdout",
     "output_type": "stream",
     "text": [
      "El valor de pi es:2.37979632\n"
     ]
    }
   ],
   "source": [
    "phi = 1.618\n",
    "\n",
    "print(\"El valor de pi es:{}\".format((valor+phi)/2))"
   ]
  },
  {
   "cell_type": "markdown",
   "id": "04eea1b3",
   "metadata": {},
   "source": [
    "### Cadenas \"f\" \n",
    "\n",
    "La última forma de imprimir con formato se conoce como f-string y es la forma mas pythonesca de hacerlo En Python 3.6 se añadió (PEP 498) una nueva notación para cadenas llamada cadenas \"f\", que simplifica la inserción de variables y expresiones en las cadenas. Una cadena \"f\" contiene variables y expresiones entre llaves ({}) que se sustituyen directamente por su valor. Las cadenas \"f\" se reconocen porque comienzan por una letra f antes de las comillas de apertura."
   ]
  },
  {
   "cell_type": "code",
   "execution_count": 117,
   "id": "e280a255",
   "metadata": {},
   "outputs": [
    {
     "name": "stdout",
     "output_type": "stream",
     "text": [
      "Me llamo Diego y tengo 27 años.\n"
     ]
    }
   ],
   "source": [
    "nombre = \"Diego\"\n",
    "edad = 27\n",
    "print(f\"Me llamo {nombre} y tengo {edad} años.\")"
   ]
  },
  {
   "cell_type": "code",
   "execution_count": 118,
   "id": "811a9201",
   "metadata": {},
   "outputs": [
    {
     "name": "stdout",
     "output_type": "stream",
     "text": [
      "En 4 semanas hay 28 días.\n"
     ]
    }
   ],
   "source": [
    "semanas = 4\n",
    "print(f\"En {semanas} semanas hay {7 * semanas} días.\")"
   ]
  },
  {
   "cell_type": "code",
   "execution_count": 119,
   "id": "99ae69ff",
   "metadata": {},
   "outputs": [
    {
     "name": "stdout",
     "output_type": "stream",
     "text": [
      "El valor de pi es:3.14\n"
     ]
    }
   ],
   "source": [
    "# Al igual que en el método anterior podemos especificar el numero de decimales, notemos que al escribir el valor \n",
    "#de la variable en la posición que le corresponde, es menos susceptible a que cometamos errores \n",
    "\n",
    "valor = 3.14159264\n",
    " \n",
    "print(f\"El valor de pi es:{valor:.2f}\")"
   ]
  },
  {
   "cell_type": "code",
   "execution_count": null,
   "id": "e0d85340",
   "metadata": {},
   "outputs": [],
   "source": []
  }
 ],
 "metadata": {
  "kernelspec": {
   "display_name": "Python 3",
   "language": "python",
   "name": "python3"
  },
  "language_info": {
   "codemirror_mode": {
    "name": "ipython",
    "version": 3
   },
   "file_extension": ".py",
   "mimetype": "text/x-python",
   "name": "python",
   "nbconvert_exporter": "python",
   "pygments_lexer": "ipython3",
   "version": "3.9.5"
  }
 },
 "nbformat": 4,
 "nbformat_minor": 5
}
