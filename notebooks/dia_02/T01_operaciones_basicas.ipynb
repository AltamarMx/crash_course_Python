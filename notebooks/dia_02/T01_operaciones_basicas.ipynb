{
 "cells": [
  {
   "cell_type": "markdown",
   "metadata": {
    "id": "9EkDaIgJskG0"
   },
   "source": [
    "# Tarea 1"
   ]
  },
  {
   "cell_type": "markdown",
   "metadata": {},
   "source": [
    "### Ejemplo\n",
    "Escribe un programa que calcule el área de un rectángulo"
   ]
  },
  {
   "cell_type": "code",
   "execution_count": 5,
   "metadata": {},
   "outputs": [
    {
     "name": "stdout",
     "output_type": "stream",
     "text": [
      "El área del rectángulo es 20\n"
     ]
    }
   ],
   "source": [
    "base = 4\n",
    "altura = 5\n",
    "area = base*altura\n",
    "\n",
    "print(\"El área del rectángulo es\", area)"
   ]
  },
  {
   "cell_type": "markdown",
   "metadata": {
    "id": "RsBL1AWnskHA"
   },
   "source": [
    "## Ejercicio 1\n",
    "#### Parte 1 (2 puntos): \n",
    "El monto de energía requerido para incrementar la temeperatura de un gramo de un material en un grado Celsius se le conoce como la capacidad calorífica específica $C$. La cantidad total de energía requerida para incrementar $m$ gramos de un material por $\\triangle T °C$ puede ser calculado como: $$q=mC\\triangle T$$\n",
    "\n",
    "Escribe un programa que a partir de la masa del agua y un cambio de temperatura definido como $\\triangle T = T_2-T_1$ muestre la cantidad de energía que deba ser añadida o removida para alcanzar el cambio de temperatura deseado.\n",
    "\n",
    "#### Parte 2 (2 puntos): \n",
    "Modifica tu programa para que también calcule el costo de calentar el agua. La electricidad usualmente es _cobrada_ en unidades de kWh en lugar de Joules. En este ejercicio considera el costo de 8.9 centavos (de dolar) por kWh. Usa tu programa para calcular el costo de hervir una taza de café."
   ]
  },
  {
   "cell_type": "markdown",
   "metadata": {
    "id": "fq3q3H2ZskHB"
   },
   "source": [
    "## Ejercicio 2 (3 puntos)\n",
    "Cuando el viento sopla en un clima frío, el aire se siente incluso más frio de lo que realmente es, porque el movimiento del aire aumenta la velocidad de enfriamiento de los objetos calientes, como gente. Este efecto se conoce como sensación térmica.\n",
    "\n",
    "En 2001, Canada, Reino Unido y Estados Unidos adoptaron la siguiente formula para calcular el Índice de Sensación Térmica. Dentro de la fórmula $T_a$ es la temperatura del aire en °C y V es la velocidad del viento en kilómetros por hora. Una fórmula similar con diferentes valores constante puede ser usada para temperaturas en °F y con velocidades en millas por hora.\n",
    "\n",
    "$$IST = 13.12 + 0.6215T_a − 11.37V^{0.16} + 0.3965T_a V^{0.16}$$\n",
    "\n",
    "Escribe un programa que a partir de la temperatura y velocidad del aire calcule el IST y muestre el resultado redondeado al entero más cercano.\n"
   ]
  },
  {
   "cell_type": "markdown",
   "metadata": {
    "id": "ogwtAMAFskHC"
   },
   "source": [
    "## Ejercicio 3 (4 puntos)\n",
    "En el sitio www.timetoherd.com se estiman los días faltantes para que la población en un determinado país alcance el 70% de la vacunación. Para la estimación consultada el día 10 de marzo de 2021, en México se alcanzará dicho porcentaje en 2348 días. Escribe un programa que determine el número de años, meses y días faltantes para esa fecha.  "
   ]
  },
  {
   "cell_type": "markdown",
   "metadata": {
    "id": "UvPgTopPskHD"
   },
   "source": [
    "## Ejercicio 4 (4 puntos)\n",
    "Escribe un programa que a partir de un entero de cuatro dígitos, muestre la suma de los dígitos de ese número.\n",
    "Por ejemplo para 3141, el programa deberá mostrar\n",
    "3+1+4+1=9"
   ]
  },
  {
   "cell_type": "markdown",
   "metadata": {
    "id": "myFU_wQOskHE"
   },
   "source": [
    "## Ejercicio 5 (3 puntos)\n",
    "Es posible calcular el área de un triángulo si sus tres lados son conocidos. Sean $s_1, s_2$ y $s_3$ las longitudes de los lados y $s=(s_1+s_2+s_3)/2$, entonces el área del triángulo puede ser calculado como: $$Área = \\sqrt{s(s-s_1)(s-s_2)(s-s_3)}$$\n",
    "\n",
    "Escribe un programa que calcule el área a partir de los lados de un triángulo."
   ]
  },
  {
   "cell_type": "markdown",
   "metadata": {
    "id": "wWEI_5AEtvMJ"
   },
   "source": [
    "## Ejercicio 6 (4 puntos)\n",
    "Supón que tienes una cuenta de ahorro donde ganas 4% de interés por año. El interés que ganas es pagado al final del año y añadido al total de tu cuenta. Escribe un programa que, a partir del monto inicial muestre el monto en la cuenta después de 1, 2 3 y 5 años. Muestra cada monto redondeado a 2 cifras decimales."
   ]
  },
  {
   "cell_type": "markdown",
   "metadata": {},
   "source": [
    "## Ejercicio 7 (4 puntos)\n",
    "Los relojes de 24 horas son usados continuamente (9 es 9 am y 21 es 9 pm). Si actualmente son las 14 horas y colocas tu temporizador en 50 horas, entonces serán las 16 horas (4 pm). Escribe un programa que, a partir del tiempo actual (en horas sin minutos) y el número de horas por esperar, deberá mostrar la hora en que el temporizador sonará.  \n"
   ]
  },
  {
   "cell_type": "code",
   "execution_count": null,
   "metadata": {},
   "outputs": [],
   "source": []
  }
 ],
 "metadata": {
  "colab": {
   "name": "T01.ipynb",
   "provenance": []
  },
  "kernelspec": {
   "display_name": "Python 3",
   "language": "python",
   "name": "python3"
  },
  "language_info": {
   "codemirror_mode": {
    "name": "ipython",
    "version": 3
   },
   "file_extension": ".py",
   "mimetype": "text/x-python",
   "name": "python",
   "nbconvert_exporter": "python",
   "pygments_lexer": "ipython3",
   "version": "3.8.7"
  }
 },
 "nbformat": 4,
 "nbformat_minor": 1
}
